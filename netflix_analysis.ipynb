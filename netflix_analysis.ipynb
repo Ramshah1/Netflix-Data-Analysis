{
 "cells": [
  {
   "cell_type": "markdown",
   "metadata": {},
   "source": [
    "# Exploring Netflix Data\n",
    "\n"
   ]
  },
  {
   "cell_type": "markdown",
   "metadata": {},
   "source": [
    "This notebook follows the [CRISP-DM](https://paginas.fe.up.pt/~ec/files_0405/slides/02%20CRISP.pdf) process to analyze the [Netflix Movies and TV Shows on Kaggle.](https://www.kaggle.com/shivamb/netflix-shows)\n",
    "\n",
    "This dataset consists of tv shows and movies available on Netflix as of 2019. The dataset is collected from Flixable which is a third-party Netflix search engine.\n",
    "\n",
    "In 2018, they released an interesting [report](https://flixable.com/netflix-museum/) which shows that the number of TV shows on Netflix has nearly tripled since 2010. The streaming service’s number of movies has decreased by more than 2,000 titles since 2010, while its number of TV shows has nearly tripled. It will be interesting to explore what all other insights can be obtained from the same dataset.\n",
    "\n",
    "Integrating this dataset with other external datasets such as IMDB ratings, rotten tomatoes can also provide many interesting findings."
   ]
  },
  {
   "cell_type": "markdown",
   "metadata": {},
   "source": [
    "## Business Understanding\n",
    "\n",
    "These are the guiding questions that drive this analysis\n",
    "* Which Country produces most content available on netflix?\n",
    "* In what month of the year, does the most new content arrives on netflix?\n",
    "* How does the different genres relate to the target audience belogning to different age groups?\n",
    "* What is the time difference between release date and netflix arrival date of a show/movie? # rephrase it \n"
   ]
  },
  {
   "cell_type": "markdown",
   "metadata": {},
   "source": [
    "### Setup"
   ]
  },
  {
   "cell_type": "code",
   "execution_count": 2,
   "metadata": {},
   "outputs": [],
   "source": [
    "import matplotlib.pyplot as plt\n",
    "import pandas as pd\n",
    "import numpy as np\n",
    "import seaborn as sns\n",
    "%matplotlib inline"
   ]
  },
  {
   "cell_type": "code",
   "execution_count": 3,
   "metadata": {},
   "outputs": [],
   "source": [
    "pd.set_option('display.max_columns', 100)\n",
    "pd.set_option('display.max_rows', 100)"
   ]
  },
  {
   "cell_type": "code",
   "execution_count": 4,
   "metadata": {},
   "outputs": [
    {
     "data": {
      "text/html": [
       "<div>\n",
       "<style scoped>\n",
       "    .dataframe tbody tr th:only-of-type {\n",
       "        vertical-align: middle;\n",
       "    }\n",
       "\n",
       "    .dataframe tbody tr th {\n",
       "        vertical-align: top;\n",
       "    }\n",
       "\n",
       "    .dataframe thead th {\n",
       "        text-align: right;\n",
       "    }\n",
       "</style>\n",
       "<table border=\"1\" class=\"dataframe\">\n",
       "  <thead>\n",
       "    <tr style=\"text-align: right;\">\n",
       "      <th></th>\n",
       "      <th>show_id</th>\n",
       "      <th>type</th>\n",
       "      <th>title</th>\n",
       "      <th>director</th>\n",
       "      <th>cast</th>\n",
       "      <th>country</th>\n",
       "      <th>date_added</th>\n",
       "      <th>release_year</th>\n",
       "      <th>rating</th>\n",
       "      <th>duration</th>\n",
       "      <th>listed_in</th>\n",
       "      <th>description</th>\n",
       "    </tr>\n",
       "  </thead>\n",
       "  <tbody>\n",
       "    <tr>\n",
       "      <th>0</th>\n",
       "      <td>s1</td>\n",
       "      <td>TV Show</td>\n",
       "      <td>3%</td>\n",
       "      <td>NaN</td>\n",
       "      <td>João Miguel, Bianca Comparato, Michel Gomes, R...</td>\n",
       "      <td>Brazil</td>\n",
       "      <td>August 14, 2020</td>\n",
       "      <td>2020</td>\n",
       "      <td>TV-MA</td>\n",
       "      <td>4 Seasons</td>\n",
       "      <td>International TV Shows, TV Dramas, TV Sci-Fi &amp;...</td>\n",
       "      <td>In a future where the elite inhabit an island ...</td>\n",
       "    </tr>\n",
       "    <tr>\n",
       "      <th>1</th>\n",
       "      <td>s2</td>\n",
       "      <td>Movie</td>\n",
       "      <td>7:19</td>\n",
       "      <td>Jorge Michel Grau</td>\n",
       "      <td>Demián Bichir, Héctor Bonilla, Oscar Serrano, ...</td>\n",
       "      <td>Mexico</td>\n",
       "      <td>December 23, 2016</td>\n",
       "      <td>2016</td>\n",
       "      <td>TV-MA</td>\n",
       "      <td>93 min</td>\n",
       "      <td>Dramas, International Movies</td>\n",
       "      <td>After a devastating earthquake hits Mexico Cit...</td>\n",
       "    </tr>\n",
       "    <tr>\n",
       "      <th>2</th>\n",
       "      <td>s3</td>\n",
       "      <td>Movie</td>\n",
       "      <td>23:59</td>\n",
       "      <td>Gilbert Chan</td>\n",
       "      <td>Tedd Chan, Stella Chung, Henley Hii, Lawrence ...</td>\n",
       "      <td>Singapore</td>\n",
       "      <td>December 20, 2018</td>\n",
       "      <td>2011</td>\n",
       "      <td>R</td>\n",
       "      <td>78 min</td>\n",
       "      <td>Horror Movies, International Movies</td>\n",
       "      <td>When an army recruit is found dead, his fellow...</td>\n",
       "    </tr>\n",
       "    <tr>\n",
       "      <th>3</th>\n",
       "      <td>s4</td>\n",
       "      <td>Movie</td>\n",
       "      <td>9</td>\n",
       "      <td>Shane Acker</td>\n",
       "      <td>Elijah Wood, John C. Reilly, Jennifer Connelly...</td>\n",
       "      <td>United States</td>\n",
       "      <td>November 16, 2017</td>\n",
       "      <td>2009</td>\n",
       "      <td>PG-13</td>\n",
       "      <td>80 min</td>\n",
       "      <td>Action &amp; Adventure, Independent Movies, Sci-Fi...</td>\n",
       "      <td>In a postapocalyptic world, rag-doll robots hi...</td>\n",
       "    </tr>\n",
       "    <tr>\n",
       "      <th>4</th>\n",
       "      <td>s5</td>\n",
       "      <td>Movie</td>\n",
       "      <td>21</td>\n",
       "      <td>Robert Luketic</td>\n",
       "      <td>Jim Sturgess, Kevin Spacey, Kate Bosworth, Aar...</td>\n",
       "      <td>United States</td>\n",
       "      <td>January 1, 2020</td>\n",
       "      <td>2008</td>\n",
       "      <td>PG-13</td>\n",
       "      <td>123 min</td>\n",
       "      <td>Dramas</td>\n",
       "      <td>A brilliant group of students become card-coun...</td>\n",
       "    </tr>\n",
       "  </tbody>\n",
       "</table>\n",
       "</div>"
      ],
      "text/plain": [
       "  show_id     type  title           director  \\\n",
       "0      s1  TV Show     3%                NaN   \n",
       "1      s2    Movie   7:19  Jorge Michel Grau   \n",
       "2      s3    Movie  23:59       Gilbert Chan   \n",
       "3      s4    Movie      9        Shane Acker   \n",
       "4      s5    Movie     21     Robert Luketic   \n",
       "\n",
       "                                                cast        country  \\\n",
       "0  João Miguel, Bianca Comparato, Michel Gomes, R...         Brazil   \n",
       "1  Demián Bichir, Héctor Bonilla, Oscar Serrano, ...         Mexico   \n",
       "2  Tedd Chan, Stella Chung, Henley Hii, Lawrence ...      Singapore   \n",
       "3  Elijah Wood, John C. Reilly, Jennifer Connelly...  United States   \n",
       "4  Jim Sturgess, Kevin Spacey, Kate Bosworth, Aar...  United States   \n",
       "\n",
       "          date_added  release_year rating   duration  \\\n",
       "0    August 14, 2020          2020  TV-MA  4 Seasons   \n",
       "1  December 23, 2016          2016  TV-MA     93 min   \n",
       "2  December 20, 2018          2011      R     78 min   \n",
       "3  November 16, 2017          2009  PG-13     80 min   \n",
       "4    January 1, 2020          2008  PG-13    123 min   \n",
       "\n",
       "                                           listed_in  \\\n",
       "0  International TV Shows, TV Dramas, TV Sci-Fi &...   \n",
       "1                       Dramas, International Movies   \n",
       "2                Horror Movies, International Movies   \n",
       "3  Action & Adventure, Independent Movies, Sci-Fi...   \n",
       "4                                             Dramas   \n",
       "\n",
       "                                         description  \n",
       "0  In a future where the elite inhabit an island ...  \n",
       "1  After a devastating earthquake hits Mexico Cit...  \n",
       "2  When an army recruit is found dead, his fellow...  \n",
       "3  In a postapocalyptic world, rag-doll robots hi...  \n",
       "4  A brilliant group of students become card-coun...  "
      ]
     },
     "execution_count": 4,
     "metadata": {},
     "output_type": "execute_result"
    }
   ],
   "source": [
    "df = pd.read_csv('netflix_titles.csv')\n",
    "\n",
    "\n",
    "df.head()"
   ]
  },
  {
   "cell_type": "markdown",
   "metadata": {},
   "source": [
    "### Getting to know Data"
   ]
  },
  {
   "cell_type": "markdown",
   "metadata": {},
   "source": [
    "First we will have a look at the total number of rows and column in the data"
   ]
  },
  {
   "cell_type": "code",
   "execution_count": 5,
   "metadata": {},
   "outputs": [
    {
     "data": {
      "text/plain": [
       "(7787, 12)"
      ]
     },
     "execution_count": 5,
     "metadata": {},
     "output_type": "execute_result"
    }
   ],
   "source": [
    "df.shape"
   ]
  },
  {
   "cell_type": "markdown",
   "metadata": {},
   "source": [
    "The data types for every column can be found as:"
   ]
  },
  {
   "cell_type": "code",
   "execution_count": 6,
   "metadata": {},
   "outputs": [
    {
     "name": "stdout",
     "output_type": "stream",
     "text": [
      "<class 'pandas.core.frame.DataFrame'>\n",
      "RangeIndex: 7787 entries, 0 to 7786\n",
      "Data columns (total 12 columns):\n",
      " #   Column        Non-Null Count  Dtype \n",
      "---  ------        --------------  ----- \n",
      " 0   show_id       7787 non-null   object\n",
      " 1   type          7787 non-null   object\n",
      " 2   title         7787 non-null   object\n",
      " 3   director      5398 non-null   object\n",
      " 4   cast          7069 non-null   object\n",
      " 5   country       7280 non-null   object\n",
      " 6   date_added    7777 non-null   object\n",
      " 7   release_year  7787 non-null   int64 \n",
      " 8   rating        7780 non-null   object\n",
      " 9   duration      7787 non-null   object\n",
      " 10  listed_in     7787 non-null   object\n",
      " 11  description   7787 non-null   object\n",
      "dtypes: int64(1), object(11)\n",
      "memory usage: 730.2+ KB\n"
     ]
    }
   ],
   "source": [
    "df.info()"
   ]
  },
  {
   "cell_type": "markdown",
   "metadata": {},
   "source": [
    "#### Handling Date data"
   ]
  },
  {
   "cell_type": "code",
   "execution_count": 7,
   "metadata": {},
   "outputs": [
    {
     "data": {
      "text/plain": [
       "show_id            0\n",
       "type               0\n",
       "title              0\n",
       "director        2389\n",
       "cast             718\n",
       "country          507\n",
       "date_added        10\n",
       "release_year       0\n",
       "rating             7\n",
       "duration           0\n",
       "listed_in          0\n",
       "description        0\n",
       "dtype: int64"
      ]
     },
     "execution_count": 7,
     "metadata": {},
     "output_type": "execute_result"
    }
   ],
   "source": [
    "df.isna().sum()"
   ]
  },
  {
   "cell_type": "markdown",
   "metadata": {},
   "source": [
    "First we will convert the string column to datetime and separate out the month and year columns for our analysis.\n",
    "For this analysis, we will remove any rows with missing values for the *date_added* column."
   ]
  },
  {
   "cell_type": "code",
   "execution_count": 8,
   "metadata": {},
   "outputs": [
    {
     "data": {
      "text/html": [
       "<div>\n",
       "<style scoped>\n",
       "    .dataframe tbody tr th:only-of-type {\n",
       "        vertical-align: middle;\n",
       "    }\n",
       "\n",
       "    .dataframe tbody tr th {\n",
       "        vertical-align: top;\n",
       "    }\n",
       "\n",
       "    .dataframe thead th {\n",
       "        text-align: right;\n",
       "    }\n",
       "</style>\n",
       "<table border=\"1\" class=\"dataframe\">\n",
       "  <thead>\n",
       "    <tr style=\"text-align: right;\">\n",
       "      <th></th>\n",
       "      <th>show_id</th>\n",
       "      <th>type</th>\n",
       "      <th>title</th>\n",
       "      <th>director</th>\n",
       "      <th>cast</th>\n",
       "      <th>country</th>\n",
       "      <th>date_added</th>\n",
       "      <th>release_year</th>\n",
       "      <th>rating</th>\n",
       "      <th>duration</th>\n",
       "      <th>listed_in</th>\n",
       "      <th>description</th>\n",
       "      <th>added_year</th>\n",
       "      <th>added_month</th>\n",
       "    </tr>\n",
       "  </thead>\n",
       "  <tbody>\n",
       "    <tr>\n",
       "      <th>0</th>\n",
       "      <td>s1</td>\n",
       "      <td>TV Show</td>\n",
       "      <td>3%</td>\n",
       "      <td>NaN</td>\n",
       "      <td>João Miguel, Bianca Comparato, Michel Gomes, R...</td>\n",
       "      <td>Brazil</td>\n",
       "      <td>2020-08-14</td>\n",
       "      <td>2020</td>\n",
       "      <td>TV-MA</td>\n",
       "      <td>4 Seasons</td>\n",
       "      <td>International TV Shows, TV Dramas, TV Sci-Fi &amp;...</td>\n",
       "      <td>In a future where the elite inhabit an island ...</td>\n",
       "      <td>2020</td>\n",
       "      <td>Aug</td>\n",
       "    </tr>\n",
       "    <tr>\n",
       "      <th>1</th>\n",
       "      <td>s2</td>\n",
       "      <td>Movie</td>\n",
       "      <td>7:19</td>\n",
       "      <td>Jorge Michel Grau</td>\n",
       "      <td>Demián Bichir, Héctor Bonilla, Oscar Serrano, ...</td>\n",
       "      <td>Mexico</td>\n",
       "      <td>2016-12-23</td>\n",
       "      <td>2016</td>\n",
       "      <td>TV-MA</td>\n",
       "      <td>93 min</td>\n",
       "      <td>Dramas, International Movies</td>\n",
       "      <td>After a devastating earthquake hits Mexico Cit...</td>\n",
       "      <td>2016</td>\n",
       "      <td>Dec</td>\n",
       "    </tr>\n",
       "    <tr>\n",
       "      <th>2</th>\n",
       "      <td>s3</td>\n",
       "      <td>Movie</td>\n",
       "      <td>23:59</td>\n",
       "      <td>Gilbert Chan</td>\n",
       "      <td>Tedd Chan, Stella Chung, Henley Hii, Lawrence ...</td>\n",
       "      <td>Singapore</td>\n",
       "      <td>2018-12-20</td>\n",
       "      <td>2011</td>\n",
       "      <td>R</td>\n",
       "      <td>78 min</td>\n",
       "      <td>Horror Movies, International Movies</td>\n",
       "      <td>When an army recruit is found dead, his fellow...</td>\n",
       "      <td>2018</td>\n",
       "      <td>Dec</td>\n",
       "    </tr>\n",
       "    <tr>\n",
       "      <th>3</th>\n",
       "      <td>s4</td>\n",
       "      <td>Movie</td>\n",
       "      <td>9</td>\n",
       "      <td>Shane Acker</td>\n",
       "      <td>Elijah Wood, John C. Reilly, Jennifer Connelly...</td>\n",
       "      <td>United States</td>\n",
       "      <td>2017-11-16</td>\n",
       "      <td>2009</td>\n",
       "      <td>PG-13</td>\n",
       "      <td>80 min</td>\n",
       "      <td>Action &amp; Adventure, Independent Movies, Sci-Fi...</td>\n",
       "      <td>In a postapocalyptic world, rag-doll robots hi...</td>\n",
       "      <td>2017</td>\n",
       "      <td>Nov</td>\n",
       "    </tr>\n",
       "    <tr>\n",
       "      <th>4</th>\n",
       "      <td>s5</td>\n",
       "      <td>Movie</td>\n",
       "      <td>21</td>\n",
       "      <td>Robert Luketic</td>\n",
       "      <td>Jim Sturgess, Kevin Spacey, Kate Bosworth, Aar...</td>\n",
       "      <td>United States</td>\n",
       "      <td>2020-01-01</td>\n",
       "      <td>2008</td>\n",
       "      <td>PG-13</td>\n",
       "      <td>123 min</td>\n",
       "      <td>Dramas</td>\n",
       "      <td>A brilliant group of students become card-coun...</td>\n",
       "      <td>2020</td>\n",
       "      <td>Jan</td>\n",
       "    </tr>\n",
       "  </tbody>\n",
       "</table>\n",
       "</div>"
      ],
      "text/plain": [
       "  show_id     type  title           director  \\\n",
       "0      s1  TV Show     3%                NaN   \n",
       "1      s2    Movie   7:19  Jorge Michel Grau   \n",
       "2      s3    Movie  23:59       Gilbert Chan   \n",
       "3      s4    Movie      9        Shane Acker   \n",
       "4      s5    Movie     21     Robert Luketic   \n",
       "\n",
       "                                                cast        country  \\\n",
       "0  João Miguel, Bianca Comparato, Michel Gomes, R...         Brazil   \n",
       "1  Demián Bichir, Héctor Bonilla, Oscar Serrano, ...         Mexico   \n",
       "2  Tedd Chan, Stella Chung, Henley Hii, Lawrence ...      Singapore   \n",
       "3  Elijah Wood, John C. Reilly, Jennifer Connelly...  United States   \n",
       "4  Jim Sturgess, Kevin Spacey, Kate Bosworth, Aar...  United States   \n",
       "\n",
       "  date_added  release_year rating   duration  \\\n",
       "0 2020-08-14          2020  TV-MA  4 Seasons   \n",
       "1 2016-12-23          2016  TV-MA     93 min   \n",
       "2 2018-12-20          2011      R     78 min   \n",
       "3 2017-11-16          2009  PG-13     80 min   \n",
       "4 2020-01-01          2008  PG-13    123 min   \n",
       "\n",
       "                                           listed_in  \\\n",
       "0  International TV Shows, TV Dramas, TV Sci-Fi &...   \n",
       "1                       Dramas, International Movies   \n",
       "2                Horror Movies, International Movies   \n",
       "3  Action & Adventure, Independent Movies, Sci-Fi...   \n",
       "4                                             Dramas   \n",
       "\n",
       "                                         description  added_year added_month  \n",
       "0  In a future where the elite inhabit an island ...        2020         Aug  \n",
       "1  After a devastating earthquake hits Mexico Cit...        2016         Dec  \n",
       "2  When an army recruit is found dead, his fellow...        2018         Dec  \n",
       "3  In a postapocalyptic world, rag-doll robots hi...        2017         Nov  \n",
       "4  A brilliant group of students become card-coun...        2020         Jan  "
      ]
     },
     "execution_count": 8,
     "metadata": {},
     "output_type": "execute_result"
    }
   ],
   "source": [
    "df.dropna(subset=['date_added'], inplace=True)\n",
    "df['date_added'] = pd.to_datetime(df['date_added'])\n",
    "df['added_year']= df['date_added'].dt.year\n",
    "df['added_month']= df['date_added'].dt.month_name().str.slice(stop=3)\n",
    "\n",
    "df.head()"
   ]
  },
  {
   "cell_type": "code",
   "execution_count": 9,
   "metadata": {},
   "outputs": [
    {
     "data": {
      "text/plain": [
       "0       Aug\n",
       "1       Dec\n",
       "2       Dec\n",
       "3       Nov\n",
       "4       Jan\n",
       "       ... \n",
       "7782    Oct\n",
       "7783    Mar\n",
       "7784    Sep\n",
       "7785    Oct\n",
       "7786    Mar\n",
       "Name: date_added, Length: 7777, dtype: object"
      ]
     },
     "execution_count": 9,
     "metadata": {},
     "output_type": "execute_result"
    }
   ],
   "source": [
    "df['date_added'].dt.month_name().str.slice(stop=3)"
   ]
  },
  {
   "cell_type": "code",
   "execution_count": 10,
   "metadata": {},
   "outputs": [
    {
     "name": "stdout",
     "output_type": "stream",
     "text": [
      "<class 'pandas.core.frame.DataFrame'>\n",
      "Int64Index: 7777 entries, 0 to 7786\n",
      "Data columns (total 14 columns):\n",
      " #   Column        Non-Null Count  Dtype         \n",
      "---  ------        --------------  -----         \n",
      " 0   show_id       7777 non-null   object        \n",
      " 1   type          7777 non-null   object        \n",
      " 2   title         7777 non-null   object        \n",
      " 3   director      5398 non-null   object        \n",
      " 4   cast          7059 non-null   object        \n",
      " 5   country       7271 non-null   object        \n",
      " 6   date_added    7777 non-null   datetime64[ns]\n",
      " 7   release_year  7777 non-null   int64         \n",
      " 8   rating        7770 non-null   object        \n",
      " 9   duration      7777 non-null   object        \n",
      " 10  listed_in     7777 non-null   object        \n",
      " 11  description   7777 non-null   object        \n",
      " 12  added_year    7777 non-null   int64         \n",
      " 13  added_month   7777 non-null   object        \n",
      "dtypes: datetime64[ns](1), int64(2), object(11)\n",
      "memory usage: 911.4+ KB\n"
     ]
    }
   ],
   "source": [
    "df.info()"
   ]
  },
  {
   "cell_type": "code",
   "execution_count": 11,
   "metadata": {},
   "outputs": [
    {
     "data": {
      "image/png": "[encoded data removed]",
      "text/plain": [
       "<Figure size 576x576 with 1 Axes>"
      ]
     },
     "metadata": {
      "needs_background": "light"
     },
     "output_type": "display_data"
    }
   ],
   "source": [
    "plt.figure(figsize=(8 , 8))\n",
    "hue_order = ['Jan', 'Feb', 'Mar', 'Apr', 'May', 'Jun', 'Jul', 'Aug', 'Sep', 'Oct', 'Nov', 'Dec']\n",
    "ax = sns.countplot(data=df, x='added_month', order=hue_order)\n",
    "ax.set(xlabel='Months', ylabel='Number of items added', title='Media Added per Month on Netflix')\n",
    "plt.show()"
   ]
  },
  {
   "cell_type": "code",
   "execution_count": 12,
   "metadata": {},
   "outputs": [
    {
     "data": {
      "image/png": "[encoded data removed]",
      "text/plain": [
       "<Figure size 576x576 with 1 Axes>"
      ]
     },
     "metadata": {
      "needs_background": "light"
     },
     "output_type": "display_data"
    }
   ],
   "source": [
    "plt.figure(figsize=(8 , 8))\n",
    "hue_order = ['Jan', 'Feb', 'Mar', 'Apr', 'May', 'Jun', 'Jul', 'Aug', 'Sep', 'Oct', 'Nov', 'Dec']\n",
    "ax = sns.countplot(data=df, x='added_month', order=hue_order, hue='type')\n",
    "ax.set(xlabel='Months', ylabel='Number of movies/shows added', title='Media Added per Month on Netflix')\n",
    "plt.show()"
   ]
  },
  {
   "cell_type": "markdown",
   "metadata": {},
   "source": [
    "From the above graphs, it can be seen that most content gets uploaded to netlflix in December followed by October and then January. This can lead us to conclusion that Netflix adds new data near holiday season."
   ]
  },
  {
   "cell_type": "code",
   "execution_count": 13,
   "metadata": {},
   "outputs": [],
   "source": [
    "rel_year = df.release_year.value_counts()"
   ]
  },
  {
   "cell_type": "code",
   "execution_count": 14,
   "metadata": {},
   "outputs": [
    {
     "name": "stdout",
     "output_type": "stream",
     "text": [
      "2018\n",
      "2017\n",
      "2019\n",
      "2016\n",
      "2020\n",
      "2015\n",
      "2014\n",
      "2013\n",
      "2012\n",
      "2010\n",
      "2011\n",
      "2009\n",
      "2008\n",
      "2007\n",
      "2006\n",
      "2005\n",
      "2004\n",
      "2003\n",
      "2002\n",
      "2001\n",
      "2000\n",
      "1999\n",
      "2021\n",
      "1998\n",
      "1997\n",
      "1993\n",
      "1990\n",
      "1995\n",
      "1996\n",
      "1992\n",
      "1991\n",
      "1988\n",
      "1994\n",
      "1982\n",
      "1989\n",
      "1979\n",
      "1973\n",
      "1986\n",
      "1983\n",
      "1984\n",
      "1985\n",
      "1976\n",
      "1981\n",
      "1980\n",
      "1977\n",
      "1974\n",
      "1987\n",
      "1975\n",
      "1978\n",
      "1967\n",
      "1968\n",
      "1971\n",
      "1960\n",
      "1972\n",
      "1945\n",
      "1955\n",
      "1962\n",
      "1944\n",
      "1943\n",
      "1958\n",
      "1946\n",
      "1965\n",
      "1942\n",
      "1969\n",
      "1963\n",
      "1954\n",
      "1970\n",
      "1956\n",
      "1925\n",
      "1964\n",
      "1966\n",
      "1947\n",
      "1959\n"
     ]
    }
   ],
   "source": [
    "for idx, year in rel_year.iteritems():\n",
    "    print(idx)"
   ]
  },
  {
   "cell_type": "code",
   "execution_count": 15,
   "metadata": {},
   "outputs": [
    {
     "data": {
      "text/plain": [
       "pandas.core.series.Series"
      ]
     },
     "execution_count": 15,
     "metadata": {},
     "output_type": "execute_result"
    }
   ],
   "source": [
    "type(rel_year)"
   ]
  },
  {
   "cell_type": "code",
   "execution_count": 162,
   "metadata": {},
   "outputs": [
    {
     "data": {
      "image/png": "[encoded data removed]",
      "text/plain": [
       "<Figure size 720x720 with 1 Axes>"
      ]
     },
     "metadata": {
      "needs_background": "light"
     },
     "output_type": "display_data"
    }
   ],
   "source": [
    "plt.figure(figsize=(10 , 10))\n",
    "sns.lineplot(data=rel_year)\n",
    "plt.show()"
   ]
  },
  {
   "cell_type": "code",
   "execution_count": 16,
   "metadata": {},
   "outputs": [
    {
     "data": {
      "image/png": "[encoded data removed]",
      "text/plain": [
       "<Figure size 720x720 with 1 Axes>"
      ]
     },
     "metadata": {
      "needs_background": "light"
     },
     "output_type": "display_data"
    }
   ],
   "source": [
    "add_year = df.added_year.value_counts()\n",
    "plt.figure(figsize=(10 , 10))\n",
    "sns.lineplot(data=add_year)\n",
    "plt.show()"
   ]
  },
  {
   "cell_type": "code",
   "execution_count": 19,
   "metadata": {},
   "outputs": [
    {
     "data": {
      "image/png": "[encoded data removed]",
      "text/plain": [
       "<Figure size 720x720 with 1 Axes>"
      ]
     },
     "metadata": {
      "needs_background": "light"
     },
     "output_type": "display_data"
    }
   ],
   "source": [
    "plt.figure(figsize=(10 , 10))\n",
    "sns.lineplot(data=rel_year)\n",
    "sns.lineplot(data=add_year)\n",
    "plt.show()\n"
   ]
  },
  {
   "cell_type": "code",
   "execution_count": 18,
   "metadata": {},
   "outputs": [
    {
     "data": {
      "text/plain": [
       "73"
      ]
     },
     "execution_count": 18,
     "metadata": {},
     "output_type": "execute_result"
    }
   ],
   "source": [
    "len(rel_year)"
   ]
  },
  {
   "cell_type": "code",
   "execution_count": 20,
   "metadata": {},
   "outputs": [
    {
     "data": {
      "text/plain": [
       "2018    1120\n",
       "2017    1012\n",
       "2019     996\n",
       "2016     881\n",
       "2020     868\n",
       "2015     539\n",
       "2014     334\n",
       "2013     266\n",
       "2012     218\n",
       "2010     172\n",
       "2011     166\n",
       "2009     137\n",
       "2008     124\n",
       "2007      85\n",
       "2006      85\n",
       "2005      73\n",
       "2004      59\n",
       "2003      47\n",
       "2002      45\n",
       "2001      36\n",
       "2000      34\n",
       "1999      33\n",
       "2021      31\n",
       "1998      31\n",
       "1997      30\n",
       "1993      22\n",
       "1990      20\n",
       "1995      19\n",
       "1996      19\n",
       "1992      18\n",
       "1991      17\n",
       "1988      16\n",
       "1994      16\n",
       "1982      15\n",
       "1989      13\n",
       "1979      11\n",
       "1973      10\n",
       "1986      10\n",
       "1983       9\n",
       "1984       9\n",
       "1985       9\n",
       "1976       9\n",
       "1981       9\n",
       "1980       9\n",
       "1977       7\n",
       "1974       7\n",
       "1987       7\n",
       "1975       6\n",
       "1978       6\n",
       "1967       5\n",
       "1968       5\n",
       "1971       5\n",
       "1960       4\n",
       "1972       4\n",
       "1945       3\n",
       "1955       3\n",
       "1962       3\n",
       "1944       3\n",
       "1943       3\n",
       "1958       3\n",
       "1946       2\n",
       "1965       2\n",
       "1942       2\n",
       "1969       2\n",
       "1963       2\n",
       "1954       2\n",
       "1970       2\n",
       "1956       2\n",
       "1925       1\n",
       "1964       1\n",
       "1966       1\n",
       "1947       1\n",
       "1959       1\n",
       "Name: release_year, dtype: int64"
      ]
     },
     "execution_count": 20,
     "metadata": {},
     "output_type": "execute_result"
    }
   ],
   "source": [
    "rel_year"
   ]
  },
  {
   "cell_type": "code",
   "execution_count": 32,
   "metadata": {},
   "outputs": [
    {
     "data": {
      "text/plain": [
       "2000    18.617647\n",
       "2001    17.500000\n",
       "2002    17.022222\n",
       "2003    16.000000\n",
       "2004    14.745763\n",
       "2005    13.643836\n",
       "2006    12.670588\n",
       "2007    11.529412\n",
       "2008    10.532258\n",
       "2009     9.459854\n",
       "2010     8.319767\n",
       "2011     7.469880\n",
       "2012     6.169725\n",
       "2013     4.977444\n",
       "2014     3.859281\n",
       "2015     2.404453\n",
       "2016     1.531215\n",
       "2017     0.987154\n",
       "2018     0.617857\n",
       "2019     0.287149\n",
       "2020     0.010369\n",
       "dtype: float64"
      ]
     },
     "execution_count": 32,
     "metadata": {},
     "output_type": "execute_result"
    }
   ],
   "source": [
    "release_diff = {}\n",
    "for i in range(2000, 2021):\n",
    "    rows = df[df['release_year'] ==i ]\n",
    "    diff = rows['added_year'].mean() - i\n",
    "    release_diff[i] = diff\n",
    "\n",
    "diff_series = pd.Series(release_diff)\n",
    "diff_series\n",
    "    "
   ]
  },
  {
   "cell_type": "code",
   "execution_count": 37,
   "metadata": {},
   "outputs": [
    {
     "data": {
      "image/png": "[encoded data removed]",
      "text/plain": [
       "<Figure size 720x720 with 1 Axes>"
      ]
     },
     "metadata": {
      "needs_background": "light"
     },
     "output_type": "display_data"
    }
   ],
   "source": [
    "from  matplotlib.ticker import FuncFormatter\n",
    "plt.figure(figsize=(10 , 10))\n",
    "ax = sns.lineplot(data=diff_series, marker='o')\n",
    "ax.xaxis.set_major_formatter(FuncFormatter(lambda x, _: int(x)))\n",
    "# ax = plt.plot(diff_series.index, diff_series.values, marker='o')\n",
    "# ax.xaxis.set_major_locator(mpl.ticker.MaxNLocator(integer=True))\n",
    "plt.show()"
   ]
  },
  {
   "cell_type": "code",
   "execution_count": 28,
   "metadata": {},
   "outputs": [
    {
     "data": {
      "text/plain": [
       "2000    18.617647\n",
       "2001    17.500000\n",
       "2002    17.022222\n",
       "2003    16.000000\n",
       "2004    14.745763\n",
       "2005    13.643836\n",
       "2006    12.670588\n",
       "2007    11.529412\n",
       "2008    10.532258\n",
       "2009     9.459854\n",
       "2010     8.319767\n",
       "2011     7.469880\n",
       "2012     6.169725\n",
       "2013     4.977444\n",
       "2014     3.859281\n",
       "2015     2.404453\n",
       "2016     1.531215\n",
       "2017     0.987154\n",
       "2018     0.617857\n",
       "2019     0.287149\n",
       "2020     0.010369\n",
       "dtype: float64"
      ]
     },
     "execution_count": 28,
     "metadata": {},
     "output_type": "execute_result"
    }
   ],
   "source": [
    "release_diff = {}\n",
    "for i in range(2000, 2021):\n",
    "    rows = df[df['release_year'] ==i ]\n",
    "    diff = (rows['added_year'] - rows['release_year']).mean()\n",
    "    release_diff[i] = diff\n",
    "\n",
    "diff_series = pd.Series(release_diff)\n",
    "diff_series"
   ]
  },
  {
   "cell_type": "code",
   "execution_count": 23,
   "metadata": {},
   "outputs": [],
   "source": [
    "diff = df['added_year'] - df['release_year']"
   ]
  },
  {
   "cell_type": "code",
   "execution_count": 24,
   "metadata": {},
   "outputs": [
    {
     "data": {
      "text/plain": [
       "0        0\n",
       "1        0\n",
       "2        7\n",
       "3        8\n",
       "4       12\n",
       "        ..\n",
       "7782    15\n",
       "7783     4\n",
       "7784     1\n",
       "7785     1\n",
       "7786     1\n",
       "Length: 7777, dtype: int64"
      ]
     },
     "execution_count": 24,
     "metadata": {},
     "output_type": "execute_result"
    }
   ],
   "source": [
    "diff"
   ]
  },
  {
   "cell_type": "code",
   "execution_count": 42,
   "metadata": {},
   "outputs": [],
   "source": [
    "genres = list(df['listed_in'].value_counts().keys())"
   ]
  },
  {
   "cell_type": "code",
   "execution_count": 43,
   "metadata": {},
   "outputs": [
    {
     "data": {
      "text/plain": [
       "['Documentaries',\n",
       " 'Stand-Up Comedy',\n",
       " 'Dramas, International Movies',\n",
       " 'Comedies, Dramas, International Movies',\n",
       " 'Dramas, Independent Movies, International Movies',\n",
       " \"Kids' TV\",\n",
       " 'Children & Family Movies',\n",
       " 'Documentaries, International Movies',\n",
       " 'Children & Family Movies, Comedies',\n",
       " 'Comedies, International Movies',\n",
       " 'Dramas, International Movies, Romantic Movies',\n",
       " 'Comedies, International Movies, Romantic Movies',\n",
       " 'Action & Adventure, Dramas, International Movies',\n",
       " 'Dramas',\n",
       " 'International TV Shows, TV Dramas',\n",
       " 'Dramas, International Movies, Thrillers',\n",
       " 'Crime TV Shows, International TV Shows, TV Dramas',\n",
       " 'Comedies, Dramas, Independent Movies',\n",
       " 'Action & Adventure',\n",
       " 'Comedies',\n",
       " 'Dramas, Independent Movies',\n",
       " \"Kids' TV, TV Comedies\",\n",
       " 'Action & Adventure, International Movies',\n",
       " 'International TV Shows, Romantic TV Shows, TV Dramas',\n",
       " 'Reality TV',\n",
       " 'International TV Shows, Romantic TV Shows, TV Comedies',\n",
       " 'Anime Series, International TV Shows',\n",
       " 'Docuseries',\n",
       " 'Documentaries, Music & Musicals',\n",
       " 'Dramas, Thrillers',\n",
       " 'Action & Adventure, Comedies, International Movies',\n",
       " 'International TV Shows, Korean TV Shows, Romantic TV Shows',\n",
       " 'Comedies, Romantic Movies',\n",
       " 'TV Comedies',\n",
       " 'International Movies, Thrillers',\n",
       " 'Documentaries, Sports Movies',\n",
       " 'Horror Movies, International Movies',\n",
       " 'Crime TV Shows, International TV Shows, Spanish-Language TV Shows',\n",
       " 'Movies',\n",
       " 'Comedies, International Movies, Music & Musicals',\n",
       " 'Dramas, International Movies, Music & Musicals',\n",
       " 'Action & Adventure, Sci-Fi & Fantasy',\n",
       " 'Horror Movies, Thrillers',\n",
       " 'Thrillers',\n",
       " 'Crime TV Shows, Docuseries',\n",
       " 'Horror Movies',\n",
       " 'Action & Adventure, Comedies',\n",
       " 'Documentaries, International Movies, Sports Movies',\n",
       " 'Dramas, Romantic Movies',\n",
       " 'Horror Movies, International Movies, Thrillers',\n",
       " 'Docuseries, Science & Nature TV',\n",
       " 'TV Dramas',\n",
       " 'International TV Shows, Reality TV',\n",
       " 'International TV Shows, TV Comedies, TV Dramas',\n",
       " 'Documentaries, International Movies, Music & Musicals',\n",
       " 'British TV Shows, Docuseries, International TV Shows',\n",
       " 'Action & Adventure, Anime Features, International Movies',\n",
       " 'International TV Shows, TV Comedies',\n",
       " 'TV Comedies, TV Dramas',\n",
       " 'Action & Adventure, Dramas',\n",
       " 'Dramas, Independent Movies, Thrillers',\n",
       " 'Docuseries, International TV Shows',\n",
       " 'Stand-Up Comedy & Talk Shows, TV Comedies',\n",
       " 'Children & Family Movies, Dramas',\n",
       " 'British TV Shows, Docuseries, Science & Nature TV',\n",
       " 'Comedies, Dramas',\n",
       " 'Dramas, International Movies, Sports Movies',\n",
       " 'British TV Shows, International TV Shows, Reality TV',\n",
       " 'Action & Adventure, Comedies, Dramas',\n",
       " 'International TV Shows, TV Dramas, TV Mysteries',\n",
       " 'Comedies, Independent Movies',\n",
       " 'Crime TV Shows, Docuseries, International TV Shows',\n",
       " 'International TV Shows, Spanish-Language TV Shows, TV Dramas',\n",
       " \"Anime Series, Kids' TV\",\n",
       " 'British TV Shows, Crime TV Shows, International TV Shows',\n",
       " 'Documentaries, LGBTQ Movies',\n",
       " 'Crime TV Shows, International TV Shows, Korean TV Shows',\n",
       " 'Dramas, Independent Movies, Romantic Movies',\n",
       " \"Kids' TV, Korean TV Shows\",\n",
       " 'International TV Shows, Romantic TV Shows, Spanish-Language TV Shows',\n",
       " 'Classic Movies, Dramas, International Movies',\n",
       " 'International TV Shows, Korean TV Shows, TV Dramas',\n",
       " 'British TV Shows, Crime TV Shows, Docuseries',\n",
       " 'Dramas, Sports Movies',\n",
       " 'International TV Shows, TV Action & Adventure, TV Dramas',\n",
       " 'Crime TV Shows, TV Dramas, TV Mysteries',\n",
       " 'Horror Movies, Independent Movies',\n",
       " \"British TV Shows, Kids' TV\",\n",
       " 'International Movies, Romantic Movies',\n",
       " 'Dramas, Faith & Spirituality',\n",
       " 'Comedies, Independent Movies, International Movies',\n",
       " 'Action & Adventure, International Movies, Sci-Fi & Fantasy',\n",
       " 'Horror Movies, Independent Movies, Thrillers',\n",
       " 'Children & Family Movies, Music & Musicals',\n",
       " 'Crime TV Shows, TV Dramas',\n",
       " 'British TV Shows, International TV Shows, TV Comedies',\n",
       " 'Crime TV Shows, International TV Shows, TV Action & Adventure',\n",
       " 'Dramas, Independent Movies, LGBTQ Movies',\n",
       " 'International TV Shows, TV Dramas, TV Horror',\n",
       " 'Comedies, Dramas, Romantic Movies',\n",
       " 'Comedies, Horror Movies, International Movies',\n",
       " 'Docuseries, Reality TV',\n",
       " 'Docuseries, International TV Shows, Science & Nature TV',\n",
       " 'International TV Shows, Spanish-Language TV Shows, TV Comedies',\n",
       " 'British TV Shows, TV Comedies',\n",
       " 'International TV Shows, TV Dramas, Teen TV Shows',\n",
       " 'TV Shows',\n",
       " 'Dramas, International Movies, Sci-Fi & Fantasy',\n",
       " 'British TV Shows, Docuseries',\n",
       " 'Crime TV Shows, TV Action & Adventure, TV Dramas',\n",
       " 'Children & Family Movies, Comedies, Music & Musicals',\n",
       " 'Independent Movies, Thrillers',\n",
       " 'Children & Family Movies, Comedies, Dramas',\n",
       " 'Dramas, International Movies, LGBTQ Movies',\n",
       " 'Classic Movies, Documentaries',\n",
       " 'Romantic TV Shows, TV Comedies, TV Dramas',\n",
       " 'Comedies, Horror Movies',\n",
       " 'Action & Adventure, Dramas, Independent Movies',\n",
       " 'Children & Family Movies, Dramas, Romantic Movies',\n",
       " 'Music & Musicals',\n",
       " 'Comedies, Cult Movies',\n",
       " 'Sci-Fi & Fantasy, Thrillers',\n",
       " 'British TV Shows, International TV Shows, TV Dramas',\n",
       " 'Action & Adventure, International Movies, Music & Musicals',\n",
       " \"Kids' TV, TV Action & Adventure, TV Sci-Fi & Fantasy\",\n",
       " 'Classic Movies, Dramas',\n",
       " 'International TV Shows, TV Dramas, TV Thrillers',\n",
       " 'International TV Shows, TV Horror, TV Mysteries',\n",
       " 'Anime Series, Crime TV Shows, International TV Shows',\n",
       " 'Dramas, Faith & Spirituality, International Movies',\n",
       " 'British TV Shows, Reality TV',\n",
       " 'Comedies, Independent Movies, Romantic Movies',\n",
       " 'Crime TV Shows, TV Comedies, TV Dramas',\n",
       " 'Crime TV Shows, International TV Shows, TV Comedies',\n",
       " 'Children & Family Movies, Dramas, Sports Movies',\n",
       " 'International TV Shows, Korean TV Shows, TV Comedies',\n",
       " 'Horror Movies, Independent Movies, International Movies',\n",
       " 'International Movies, Sci-Fi & Fantasy, Thrillers',\n",
       " 'Anime Series, International TV Shows, Teen TV Shows',\n",
       " 'Children & Family Movies, Dramas, International Movies',\n",
       " 'International TV Shows, Reality TV, Spanish-Language TV Shows',\n",
       " 'Anime Series',\n",
       " 'Reality TV, Romantic TV Shows',\n",
       " 'TV Action & Adventure, TV Dramas, TV Sci-Fi & Fantasy',\n",
       " 'Comedies, Sports Movies',\n",
       " 'International TV Shows, TV Dramas, TV Sci-Fi & Fantasy',\n",
       " 'Children & Family Movies, Comedies, Sci-Fi & Fantasy',\n",
       " 'Children & Family Movies, Comedies, Romantic Movies',\n",
       " 'Dramas, Independent Movies, Sports Movies',\n",
       " 'Children & Family Movies, Sci-Fi & Fantasy',\n",
       " 'TV Dramas, TV Horror, TV Mysteries',\n",
       " 'Action & Adventure, Horror Movies, Sci-Fi & Fantasy',\n",
       " 'International Movies, Music & Musicals',\n",
       " 'Romantic TV Shows, TV Dramas',\n",
       " 'Dramas, LGBTQ Movies',\n",
       " 'Anime Features, Children & Family Movies',\n",
       " 'Action & Adventure, Classic Movies, Dramas',\n",
       " 'TV Comedies, TV Dramas, Teen TV Shows',\n",
       " 'Documentaries, Faith & Spirituality',\n",
       " 'Crime TV Shows, TV Dramas, TV Thrillers',\n",
       " 'Action & Adventure, Comedies, Independent Movies',\n",
       " 'TV Action & Adventure, TV Sci-Fi & Fantasy',\n",
       " 'Action & Adventure, Independent Movies',\n",
       " 'Action & Adventure, Comedies, Sci-Fi & Fantasy',\n",
       " \"Kids' TV, TV Action & Adventure, TV Comedies\",\n",
       " 'Comedies, International Movies, LGBTQ Movies',\n",
       " \"British TV Shows, Kids' TV, TV Comedies\",\n",
       " 'Anime Series, International TV Shows, Romantic TV Shows',\n",
       " 'International TV Shows, Stand-Up Comedy & Talk Shows, TV Comedies',\n",
       " 'Dramas, Independent Movies, Music & Musicals',\n",
       " 'Children & Family Movies, Documentaries',\n",
       " 'International Movies, Music & Musicals, Romantic Movies',\n",
       " 'Action & Adventure, Documentaries, International Movies',\n",
       " 'Comedies, Cult Movies, Dramas',\n",
       " 'Comedies, International Movies, Thrillers',\n",
       " 'Comedies, International Movies, Sci-Fi & Fantasy',\n",
       " 'Documentaries, International Movies, LGBTQ Movies',\n",
       " 'Dramas, Independent Movies, Sci-Fi & Fantasy',\n",
       " 'Classic Movies, Dramas, Independent Movies',\n",
       " 'Action & Adventure, International Movies, Romantic Movies',\n",
       " 'Comedies, International Movies, Sports Movies',\n",
       " 'Action & Adventure, Children & Family Movies, Sci-Fi & Fantasy',\n",
       " 'British TV Shows, International TV Shows, Romantic TV Shows',\n",
       " 'Music & Musicals, Stand-Up Comedy',\n",
       " 'Docuseries, International TV Shows, Spanish-Language TV Shows',\n",
       " 'International TV Shows, Korean TV Shows, Reality TV',\n",
       " 'Stand-Up Comedy & Talk Shows',\n",
       " 'Horror Movies, Sci-Fi & Fantasy, Thrillers',\n",
       " 'Crime TV Shows, International TV Shows, Romantic TV Shows',\n",
       " 'International TV Shows, Reality TV, Romantic TV Shows',\n",
       " 'Dramas, Sci-Fi & Fantasy',\n",
       " 'TV Dramas, Teen TV Shows',\n",
       " 'Action & Adventure, Dramas, Sci-Fi & Fantasy',\n",
       " 'Children & Family Movies, Dramas, Faith & Spirituality',\n",
       " 'Action & Adventure, Anime Features, Sci-Fi & Fantasy',\n",
       " 'Children & Family Movies, Comedies, International Movies',\n",
       " 'International TV Shows, TV Action & Adventure, TV Comedies',\n",
       " 'Independent Movies, International Movies, Thrillers',\n",
       " \"Kids' TV, TV Thrillers\",\n",
       " 'Comedies, Horror Movies, Independent Movies',\n",
       " 'Action & Adventure, Comedies, Romantic Movies',\n",
       " 'Dramas, Music & Musicals',\n",
       " 'Docuseries, International TV Shows, Reality TV',\n",
       " 'Action & Adventure, Independent Movies, Sci-Fi & Fantasy',\n",
       " 'TV Dramas, TV Thrillers',\n",
       " 'International TV Shows, Korean TV Shows, TV Action & Adventure',\n",
       " 'TV Comedies, Teen TV Shows',\n",
       " 'Dramas, Sci-Fi & Fantasy, Thrillers',\n",
       " 'TV Action & Adventure, TV Dramas',\n",
       " 'TV Horror, TV Mysteries, TV Sci-Fi & Fantasy',\n",
       " 'Comedies, Horror Movies, Sci-Fi & Fantasy',\n",
       " 'International TV Shows, Stand-Up Comedy & Talk Shows',\n",
       " 'Cult Movies, Horror Movies',\n",
       " 'Romantic TV Shows, TV Comedies',\n",
       " \"Kids' TV, Korean TV Shows, TV Comedies\",\n",
       " 'Action & Adventure, Horror Movies, International Movies',\n",
       " 'British TV Shows, Crime TV Shows, TV Dramas',\n",
       " 'Children & Family Movies, Documentaries, International Movies',\n",
       " 'International TV Shows, Romantic TV Shows, Teen TV Shows',\n",
       " 'Comedies, Dramas, LGBTQ Movies',\n",
       " 'Comedies, Independent Movies, LGBTQ Movies',\n",
       " 'Action & Adventure, Children & Family Movies, Comedies',\n",
       " 'Horror Movies, Sci-Fi & Fantasy',\n",
       " \"Kids' TV, TV Comedies, TV Dramas\",\n",
       " 'International Movies, Sci-Fi & Fantasy',\n",
       " 'International TV Shows, TV Action & Adventure, TV Sci-Fi & Fantasy',\n",
       " 'Action & Adventure, Cult Movies, International Movies',\n",
       " 'Docuseries, Reality TV, Science & Nature TV',\n",
       " 'Dramas, Romantic Movies, Sci-Fi & Fantasy',\n",
       " 'British TV Shows, International TV Shows, TV Action & Adventure',\n",
       " 'TV Horror, TV Mysteries, TV Thrillers',\n",
       " 'Comedies, Music & Musicals',\n",
       " 'TV Dramas, TV Mysteries, TV Sci-Fi & Fantasy',\n",
       " 'Documentaries, Faith & Spirituality, International Movies',\n",
       " 'Comedies, Faith & Spirituality, International Movies',\n",
       " 'International Movies, Music & Musicals, Thrillers',\n",
       " 'Action & Adventure, Anime Features, Children & Family Movies',\n",
       " 'Comedies, Sci-Fi & Fantasy',\n",
       " 'Classic Movies, Comedies, Cult Movies',\n",
       " 'International TV Shows, Spanish-Language TV Shows, TV Action & Adventure',\n",
       " 'Action & Adventure, Independent Movies, International Movies',\n",
       " 'Romantic Movies',\n",
       " 'International Movies',\n",
       " 'Docuseries, TV Comedies',\n",
       " 'Anime Series, International TV Shows, TV Horror',\n",
       " 'Horror Movies, Independent Movies, Sci-Fi & Fantasy',\n",
       " \"Kids' TV, Spanish-Language TV Shows\",\n",
       " 'Action & Adventure, Children & Family Movies, Classic Movies',\n",
       " 'Crime TV Shows, TV Action & Adventure, TV Comedies',\n",
       " 'Crime TV Shows, Docuseries, TV Mysteries',\n",
       " 'Action & Adventure, Romantic Movies',\n",
       " 'British TV Shows, Classic & Cult TV, TV Comedies',\n",
       " \"Kids' TV, TV Dramas\",\n",
       " 'Reality TV, TV Comedies',\n",
       " 'Action & Adventure, Thrillers',\n",
       " 'Anime Series, International TV Shows, TV Thrillers',\n",
       " 'International TV Shows, TV Comedies, TV Sci-Fi & Fantasy',\n",
       " 'International TV Shows, TV Horror, TV Thrillers',\n",
       " 'Classic Movies, Comedies, International Movies',\n",
       " 'Action & Adventure, Horror Movies',\n",
       " 'TV Action & Adventure, TV Comedies, TV Horror',\n",
       " 'TV Action & Adventure, TV Dramas, TV Mysteries',\n",
       " 'Action & Adventure, Comedies, Cult Movies',\n",
       " 'Action & Adventure, Classic Movies, Comedies',\n",
       " 'Children & Family Movies, Dramas, Independent Movies',\n",
       " 'Classic Movies, Comedies, Dramas',\n",
       " 'Children & Family Movies, Comedies, Sports Movies',\n",
       " 'Docuseries, Stand-Up Comedy & Talk Shows',\n",
       " 'Children & Family Movies, Sports Movies',\n",
       " 'Dramas, Music & Musicals, Romantic Movies',\n",
       " 'International TV Shows, Korean TV Shows, Stand-Up Comedy & Talk Shows',\n",
       " 'Classic & Cult TV, TV Action & Adventure, TV Sci-Fi & Fantasy',\n",
       " 'International TV Shows, Romantic TV Shows, TV Action & Adventure',\n",
       " 'Dramas, Romantic Movies, Sports Movies',\n",
       " 'International Movies, LGBTQ Movies, Romantic Movies',\n",
       " 'Independent Movies, Sci-Fi & Fantasy, Thrillers',\n",
       " 'International TV Shows, Romantic TV Shows',\n",
       " 'Crime TV Shows, TV Action & Adventure',\n",
       " 'Anime Series, Romantic TV Shows, Teen TV Shows',\n",
       " 'TV Dramas, TV Sci-Fi & Fantasy',\n",
       " 'Children & Family Movies, Classic Movies, Comedies',\n",
       " 'Comedies, Cult Movies, Horror Movies',\n",
       " 'Action & Adventure, Classic Movies, Cult Movies',\n",
       " 'Classic & Cult TV, TV Comedies',\n",
       " 'TV Action & Adventure, TV Dramas, TV Horror',\n",
       " 'Anime Series, Teen TV Shows',\n",
       " 'Classic Movies, Dramas, Romantic Movies',\n",
       " 'Docuseries, Spanish-Language TV Shows',\n",
       " 'Classic & Cult TV, Crime TV Shows, International TV Shows',\n",
       " 'Action & Adventure, Dramas, Faith & Spirituality',\n",
       " 'Spanish-Language TV Shows, TV Dramas',\n",
       " 'Classic Movies, Comedies, Independent Movies',\n",
       " 'Crime TV Shows, TV Action & Adventure, TV Thrillers',\n",
       " 'Cult Movies, Horror Movies, Independent Movies',\n",
       " 'Classic Movies, Comedies, Music & Musicals',\n",
       " 'Cult Movies, Dramas, Thrillers',\n",
       " 'TV Action & Adventure, TV Mysteries, TV Sci-Fi & Fantasy',\n",
       " 'Classic & Cult TV, TV Action & Adventure, TV Horror',\n",
       " 'Action & Adventure, International Movies, Sports Movies',\n",
       " 'Documentaries, Stand-Up Comedy',\n",
       " 'Horror Movies, International Movies, Romantic Movies',\n",
       " 'Action & Adventure, Cult Movies, Sci-Fi & Fantasy',\n",
       " 'British TV Shows, Romantic TV Shows, TV Dramas',\n",
       " 'Anime Features, Music & Musicals, Sci-Fi & Fantasy',\n",
       " 'Comedies, Documentaries',\n",
       " 'British TV Shows, Classic & Cult TV, International TV Shows',\n",
       " 'TV Comedies, TV Sci-Fi & Fantasy',\n",
       " 'Anime Series, Romantic TV Shows',\n",
       " 'Documentaries, Dramas, International Movies',\n",
       " 'Anime Series, Crime TV Shows',\n",
       " 'Classic & Cult TV, TV Action & Adventure, TV Dramas',\n",
       " 'Documentaries, Horror Movies',\n",
       " 'Comedies, Dramas, Music & Musicals',\n",
       " 'Comedies, Dramas, Faith & Spirituality',\n",
       " 'Reality TV, TV Comedies, TV Horror',\n",
       " 'Classic Movies, Dramas, Sports Movies',\n",
       " 'Action & Adventure, Children & Family Movies',\n",
       " 'Docuseries, TV Dramas',\n",
       " 'Anime Features, International Movies, Romantic Movies',\n",
       " 'Reality TV, Teen TV Shows',\n",
       " 'Anime Features',\n",
       " 'International TV Shows, TV Mysteries, TV Thrillers',\n",
       " 'TV Dramas, TV Mysteries, TV Thrillers',\n",
       " 'British TV Shows, Reality TV, Romantic TV Shows',\n",
       " 'Children & Family Movies, Documentaries, Sports Movies',\n",
       " 'Classic Movies, Cult Movies, Dramas',\n",
       " 'International TV Shows',\n",
       " 'Comedies, Independent Movies, Thrillers',\n",
       " 'Dramas, LGBTQ Movies, Romantic Movies',\n",
       " \"Kids' TV, TV Action & Adventure\",\n",
       " 'Documentaries, LGBTQ Movies, Music & Musicals',\n",
       " 'Crime TV Shows, Romantic TV Shows, TV Dramas',\n",
       " 'Comedies, LGBTQ Movies',\n",
       " 'International TV Shows, TV Action & Adventure, TV Mysteries',\n",
       " 'Classic Movies, Cult Movies, Horror Movies',\n",
       " 'Action & Adventure, Children & Family Movies, Dramas',\n",
       " 'Crime TV Shows, Spanish-Language TV Shows, TV Dramas',\n",
       " 'International TV Shows, Reality TV, TV Comedies',\n",
       " 'Classic Movies, Dramas, Music & Musicals',\n",
       " 'Comedies, Faith & Spirituality, Romantic Movies',\n",
       " 'Children & Family Movies, Independent Movies',\n",
       " 'Anime Features, Children & Family Movies, International Movies',\n",
       " \"Crime TV Shows, Kids' TV, TV Comedies\",\n",
       " 'Comedies, Cult Movies, International Movies',\n",
       " 'Comedies, Music & Musicals, Romantic Movies',\n",
       " 'Romantic TV Shows, TV Dramas, TV Sci-Fi & Fantasy',\n",
       " 'Action & Adventure, Classic Movies',\n",
       " 'Crime TV Shows, Docuseries, Science & Nature TV',\n",
       " 'TV Comedies, TV Horror, TV Thrillers',\n",
       " 'Dramas, Horror Movies, Music & Musicals',\n",
       " 'Romantic TV Shows, Spanish-Language TV Shows, TV Comedies',\n",
       " 'Action & Adventure, Children & Family Movies, Independent Movies',\n",
       " 'Crime TV Shows, TV Horror, TV Mysteries',\n",
       " 'Classic Movies, Comedies, Romantic Movies',\n",
       " 'Dramas, Faith & Spirituality, Sports Movies',\n",
       " 'Children & Family Movies, Classic Movies, Dramas',\n",
       " 'Docuseries, Science & Nature TV, TV Comedies',\n",
       " 'International TV Shows, Korean TV Shows, TV Horror',\n",
       " 'Anime Features, Romantic Movies',\n",
       " 'Action & Adventure, Dramas, Romantic Movies',\n",
       " 'Classic & Cult TV, TV Dramas, TV Sci-Fi & Fantasy',\n",
       " 'Classic Movies, Horror Movies, Thrillers',\n",
       " 'Action & Adventure, Comedies, Music & Musicals',\n",
       " 'Music & Musicals, Romantic Movies',\n",
       " 'Action & Adventure, Cult Movies',\n",
       " 'Dramas, Romantic Movies, Thrillers',\n",
       " 'Action & Adventure, Sci-Fi & Fantasy, Sports Movies',\n",
       " \"Kids' TV, TV Action & Adventure, TV Dramas\",\n",
       " 'Crime TV Shows, TV Comedies, Teen TV Shows',\n",
       " \"Anime Series, Kids' TV, TV Action & Adventure\",\n",
       " 'Comedies, Romantic Movies, Sports Movies',\n",
       " 'Classic Movies, Dramas, LGBTQ Movies',\n",
       " \"Classic & Cult TV, Kids' TV, TV Comedies\",\n",
       " 'Children & Family Movies, Comedies, Cult Movies',\n",
       " 'Children & Family Movies, Comedies, LGBTQ Movies',\n",
       " \"Kids' TV, TV Comedies, Teen TV Shows\",\n",
       " 'Classic Movies, Dramas, Thrillers',\n",
       " 'Classic & Cult TV, Crime TV Shows, TV Dramas',\n",
       " 'Docuseries, TV Sci-Fi & Fantasy',\n",
       " \"British TV Shows, Classic & Cult TV, Kids' TV\",\n",
       " 'Docuseries, Science & Nature TV, TV Action & Adventure',\n",
       " 'Comedies, Cult Movies, LGBTQ Movies',\n",
       " 'Crime TV Shows, International TV Shows, TV Sci-Fi & Fantasy',\n",
       " 'Sci-Fi & Fantasy',\n",
       " 'Action & Adventure, Comedies, Horror Movies',\n",
       " 'TV Horror, Teen TV Shows',\n",
       " 'Classic & Cult TV, TV Sci-Fi & Fantasy',\n",
       " 'Reality TV, Spanish-Language TV Shows',\n",
       " 'Action & Adventure, Documentaries, Sports Movies',\n",
       " 'Anime Features, International Movies, Sci-Fi & Fantasy',\n",
       " 'LGBTQ Movies, Thrillers',\n",
       " 'Action & Adventure, Sports Movies',\n",
       " 'Sports Movies',\n",
       " \"Kids' TV, Reality TV, Science & Nature TV\",\n",
       " 'Children & Family Movies, Dramas, Music & Musicals',\n",
       " 'Action & Adventure, Romantic Movies, Sci-Fi & Fantasy',\n",
       " 'Anime Features, International Movies',\n",
       " 'International TV Shows, Spanish-Language TV Shows, TV Horror',\n",
       " 'Classic Movies, Independent Movies, Thrillers',\n",
       " 'TV Comedies, TV Mysteries',\n",
       " 'International TV Shows, Romantic TV Shows, TV Mysteries',\n",
       " 'Crime TV Shows, TV Comedies',\n",
       " 'Crime TV Shows, TV Action & Adventure, TV Sci-Fi & Fantasy',\n",
       " \"Kids' TV, TV Comedies, TV Sci-Fi & Fantasy\",\n",
       " 'Anime Series, International TV Shows, Spanish-Language TV Shows',\n",
       " 'Children & Family Movies, Faith & Spirituality',\n",
       " 'Cult Movies, Documentaries, LGBTQ Movies',\n",
       " 'Comedies, Music & Musicals, Sports Movies',\n",
       " 'Classic Movies, Comedies, Sports Movies',\n",
       " 'Comedies, Dramas, Sports Movies',\n",
       " 'Action & Adventure, Dramas, Sports Movies',\n",
       " \"Kids' TV, Reality TV, TV Dramas\",\n",
       " 'Horror Movies, LGBTQ Movies, Music & Musicals',\n",
       " 'Comedies, LGBTQ Movies, Music & Musicals',\n",
       " 'Classic Movies, Cult Movies, Documentaries',\n",
       " 'Crime TV Shows, TV Dramas, TV Horror',\n",
       " 'Romantic TV Shows, TV Action & Adventure, TV Dramas',\n",
       " 'Reality TV, Science & Nature TV',\n",
       " 'Cult Movies, Dramas, International Movies',\n",
       " 'Dramas, Horror Movies, Sci-Fi & Fantasy',\n",
       " 'Dramas, Music & Musicals, Sports Movies',\n",
       " 'TV Comedies, TV Dramas, TV Sci-Fi & Fantasy',\n",
       " 'International Movies, Sports Movies',\n",
       " 'Dramas, Faith & Spirituality, Romantic Movies',\n",
       " 'British TV Shows, TV Horror, TV Thrillers',\n",
       " 'Romantic TV Shows, TV Dramas, Teen TV Shows',\n",
       " \"Docuseries, Kids' TV, Science & Nature TV\",\n",
       " 'Action & Adventure, Sci-Fi & Fantasy, Thrillers',\n",
       " 'TV Sci-Fi & Fantasy, TV Thrillers',\n",
       " \"British TV Shows, Kids' TV, TV Thrillers\",\n",
       " 'Documentaries, Faith & Spirituality, Music & Musicals',\n",
       " 'TV Action & Adventure',\n",
       " 'TV Comedies, TV Dramas, TV Horror',\n",
       " 'TV Action & Adventure, TV Comedies, TV Sci-Fi & Fantasy',\n",
       " \"Crime TV Shows, Kids' TV\",\n",
       " 'Dramas, Music & Musicals, Sci-Fi & Fantasy',\n",
       " 'Crime TV Shows, Spanish-Language TV Shows, TV Action & Adventure',\n",
       " 'Action & Adventure, Classic Movies, Sci-Fi & Fantasy',\n",
       " 'International Movies, Romantic Movies, Thrillers',\n",
       " \"British TV Shows, Kids' TV, TV Dramas\",\n",
       " 'Children & Family Movies, Comedies, Faith & Spirituality',\n",
       " 'TV Action & Adventure, TV Comedies',\n",
       " 'Action & Adventure, Anime Features, Horror Movies',\n",
       " 'Horror Movies, International Movies, Sci-Fi & Fantasy',\n",
       " \"Kids' TV, Spanish-Language TV Shows, Teen TV Shows\",\n",
       " 'Independent Movies',\n",
       " 'Crime TV Shows, International TV Shows, TV Mysteries',\n",
       " \"Kids' TV, TV Dramas, Teen TV Shows\",\n",
       " 'Romantic TV Shows, Spanish-Language TV Shows, TV Dramas',\n",
       " 'Reality TV, TV Horror, TV Thrillers',\n",
       " \"Classic & Cult TV, Kids' TV, Spanish-Language TV Shows\",\n",
       " 'Classic & Cult TV, TV Horror, TV Mysteries',\n",
       " 'British TV Shows, International TV Shows, Stand-Up Comedy & Talk Shows',\n",
       " 'Dramas, Faith & Spirituality, Independent Movies',\n",
       " 'TV Action & Adventure, TV Dramas, Teen TV Shows',\n",
       " 'Stand-Up Comedy & Talk Shows, TV Mysteries, TV Sci-Fi & Fantasy',\n",
       " 'TV Comedies, TV Dramas, TV Mysteries',\n",
       " 'Docuseries, Science & Nature TV, TV Dramas',\n",
       " 'International TV Shows, TV Action & Adventure, TV Horror',\n",
       " 'Reality TV, Science & Nature TV, TV Action & Adventure',\n",
       " 'Comedies, Cult Movies, Independent Movies',\n",
       " 'Action & Adventure, Horror Movies, Independent Movies',\n",
       " 'British TV Shows, Docuseries, TV Comedies',\n",
       " 'British TV Shows, Docuseries, Reality TV',\n",
       " 'Cult Movies, Horror Movies, Thrillers',\n",
       " 'Classic Movies, Thrillers',\n",
       " 'TV Comedies, TV Sci-Fi & Fantasy, Teen TV Shows',\n",
       " \"Classic & Cult TV, Kids' TV, TV Action & Adventure\",\n",
       " 'Action & Adventure, Classic Movies, International Movies',\n",
       " 'Cult Movies, Independent Movies, Thrillers',\n",
       " 'Comedies, Independent Movies, Music & Musicals',\n",
       " 'International TV Shows, Reality TV, TV Action & Adventure',\n",
       " 'Action & Adventure, Anime Features, Classic Movies',\n",
       " 'Action & Adventure, Cult Movies, Dramas',\n",
       " 'TV Action & Adventure, TV Horror, TV Sci-Fi & Fantasy',\n",
       " 'TV Dramas, TV Sci-Fi & Fantasy, TV Thrillers',\n",
       " 'British TV Shows, TV Dramas, TV Sci-Fi & Fantasy',\n",
       " 'Anime Features, Music & Musicals',\n",
       " 'Comedies, Cult Movies, Sports Movies',\n",
       " 'Docuseries, Reality TV, Teen TV Shows',\n",
       " 'Children & Family Movies, Classic Movies',\n",
       " 'TV Horror, TV Mysteries, Teen TV Shows',\n",
       " 'Action & Adventure, International Movies, Thrillers',\n",
       " 'Anime Series, TV Horror, TV Thrillers',\n",
       " 'Action & Adventure, Faith & Spirituality, Sci-Fi & Fantasy',\n",
       " 'TV Dramas, TV Sci-Fi & Fantasy, Teen TV Shows',\n",
       " 'Anime Series, Crime TV Shows, TV Thrillers',\n",
       " 'Crime TV Shows, Romantic TV Shows, Spanish-Language TV Shows',\n",
       " 'Crime TV Shows, International TV Shows, Reality TV',\n",
       " 'International Movies, Romantic Movies, Sci-Fi & Fantasy',\n",
       " 'International TV Shows, Spanish-Language TV Shows, Stand-Up Comedy & Talk Shows']"
      ]
     },
     "execution_count": 43,
     "metadata": {},
     "output_type": "execute_result"
    }
   ],
   "source": [
    "genres"
   ]
  },
  {
   "cell_type": "code",
   "execution_count": null,
   "metadata": {},
   "outputs": [],
   "source": []
  }
 ],
 "metadata": {
  "kernelspec": {
   "display_name": "Python 3 (ipykernel)",
   "language": "python",
   "name": "python3"
  },
  "language_info": {
   "codemirror_mode": {
    "name": "ipython",
    "version": 3
   },
   "file_extension": ".py",
   "mimetype": "text/x-python",
   "name": "python",
   "nbconvert_exporter": "python",
   "pygments_lexer": "ipython3",
   "version": "3.8.10"
  }
 },
 "nbformat": 4,
 "nbformat_minor": 1
}