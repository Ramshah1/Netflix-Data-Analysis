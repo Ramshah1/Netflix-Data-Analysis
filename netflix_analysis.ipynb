{
 "cells": [
  {
   "cell_type": "markdown",
   "metadata": {},
   "source": [
    "# Exploring Netflix Data\n",
    "\n"
   ]
  },
  {
   "cell_type": "markdown",
   "metadata": {},
   "source": [
    "This notebook follows the [CRISP-DM](https://paginas.fe.up.pt/~ec/files_0405/slides/02%20CRISP.pdf) process to analyze the [Netflix Movies and TV Shows on Kaggle.](https://www.kaggle.com/shivamb/netflix-shows)\n",
    "\n",
    "This dataset consists of tv shows and movies available on Netflix as of 2019. The dataset is collected from Flixable which is a third-party Netflix search engine.\n",
    "\n",
    "In 2018, they released an interesting [report](https://flixable.com/netflix-museum/) which shows that the number of TV shows on Netflix has nearly tripled since 2010. The streaming service’s number of movies has decreased by more than 2,000 titles since 2010, while its number of TV shows has nearly tripled. It will be interesting to explore what all other insights can be obtained from the same dataset.\n",
    "\n",
    "Integrating this dataset with other external datasets such as IMDB ratings, rotten tomatoes can also provide many interesting findings."
   ]
  },
  {
   "cell_type": "markdown",
   "metadata": {},
   "source": [
    "## Business Understanding\n",
    "\n",
    "These are the guiding questions that drive this analysis\n",
    "* Which Country produces most content available on netflix?\n",
    "* In what month of the year, does the most new content arrives on netflix?\n",
    "* How does the different genres relate to the target audience belonging to different age groups?\n",
    "* What is the time difference between release date and netflix arrival date of a show/movie? # rephrase it \n"
   ]
  },
  {
   "cell_type": "markdown",
   "metadata": {},
   "source": [
    "### Setup"
   ]
  },
  {
   "cell_type": "code",
   "execution_count": 2,
   "metadata": {},
   "outputs": [],
   "source": [
    "import matplotlib.pyplot as plt\n",
    "import pandas as pd\n",
    "import numpy as np\n",
    "import seaborn as sns\n",
    "%matplotlib inline"
   ]
  },
  {
   "cell_type": "code",
   "execution_count": 3,
   "metadata": {},
   "outputs": [],
   "source": [
    "pd.set_option('display.max_columns', 100)\n",
    "pd.set_option('display.max_rows', 100)"
   ]
  },
  {
   "cell_type": "code",
   "execution_count": 4,
   "metadata": {},
   "outputs": [
    {
     "data": {
      "text/html": [
       "<div>\n",
       "<style scoped>\n",
       "    .dataframe tbody tr th:only-of-type {\n",
       "        vertical-align: middle;\n",
       "    }\n",
       "\n",
       "    .dataframe tbody tr th {\n",
       "        vertical-align: top;\n",
       "    }\n",
       "\n",
       "    .dataframe thead th {\n",
       "        text-align: right;\n",
       "    }\n",
       "</style>\n",
       "<table border=\"1\" class=\"dataframe\">\n",
       "  <thead>\n",
       "    <tr style=\"text-align: right;\">\n",
       "      <th></th>\n",
       "      <th>show_id</th>\n",
       "      <th>type</th>\n",
       "      <th>title</th>\n",
       "      <th>director</th>\n",
       "      <th>cast</th>\n",
       "      <th>country</th>\n",
       "      <th>date_added</th>\n",
       "      <th>release_year</th>\n",
       "      <th>rating</th>\n",
       "      <th>duration</th>\n",
       "      <th>listed_in</th>\n",
       "      <th>description</th>\n",
       "    </tr>\n",
       "  </thead>\n",
       "  <tbody>\n",
       "    <tr>\n",
       "      <th>0</th>\n",
       "      <td>s1</td>\n",
       "      <td>TV Show</td>\n",
       "      <td>3%</td>\n",
       "      <td>NaN</td>\n",
       "      <td>João Miguel, Bianca Comparato, Michel Gomes, R...</td>\n",
       "      <td>Brazil</td>\n",
       "      <td>August 14, 2020</td>\n",
       "      <td>2020</td>\n",
       "      <td>TV-MA</td>\n",
       "      <td>4 Seasons</td>\n",
       "      <td>International TV Shows, TV Dramas, TV Sci-Fi &amp;...</td>\n",
       "      <td>In a future where the elite inhabit an island ...</td>\n",
       "    </tr>\n",
       "    <tr>\n",
       "      <th>1</th>\n",
       "      <td>s2</td>\n",
       "      <td>Movie</td>\n",
       "      <td>7:19</td>\n",
       "      <td>Jorge Michel Grau</td>\n",
       "      <td>Demián Bichir, Héctor Bonilla, Oscar Serrano, ...</td>\n",
       "      <td>Mexico</td>\n",
       "      <td>December 23, 2016</td>\n",
       "      <td>2016</td>\n",
       "      <td>TV-MA</td>\n",
       "      <td>93 min</td>\n",
       "      <td>Dramas, International Movies</td>\n",
       "      <td>After a devastating earthquake hits Mexico Cit...</td>\n",
       "    </tr>\n",
       "    <tr>\n",
       "      <th>2</th>\n",
       "      <td>s3</td>\n",
       "      <td>Movie</td>\n",
       "      <td>23:59</td>\n",
       "      <td>Gilbert Chan</td>\n",
       "      <td>Tedd Chan, Stella Chung, Henley Hii, Lawrence ...</td>\n",
       "      <td>Singapore</td>\n",
       "      <td>December 20, 2018</td>\n",
       "      <td>2011</td>\n",
       "      <td>R</td>\n",
       "      <td>78 min</td>\n",
       "      <td>Horror Movies, International Movies</td>\n",
       "      <td>When an army recruit is found dead, his fellow...</td>\n",
       "    </tr>\n",
       "    <tr>\n",
       "      <th>3</th>\n",
       "      <td>s4</td>\n",
       "      <td>Movie</td>\n",
       "      <td>9</td>\n",
       "      <td>Shane Acker</td>\n",
       "      <td>Elijah Wood, John C. Reilly, Jennifer Connelly...</td>\n",
       "      <td>United States</td>\n",
       "      <td>November 16, 2017</td>\n",
       "      <td>2009</td>\n",
       "      <td>PG-13</td>\n",
       "      <td>80 min</td>\n",
       "      <td>Action &amp; Adventure, Independent Movies, Sci-Fi...</td>\n",
       "      <td>In a postapocalyptic world, rag-doll robots hi...</td>\n",
       "    </tr>\n",
       "    <tr>\n",
       "      <th>4</th>\n",
       "      <td>s5</td>\n",
       "      <td>Movie</td>\n",
       "      <td>21</td>\n",
       "      <td>Robert Luketic</td>\n",
       "      <td>Jim Sturgess, Kevin Spacey, Kate Bosworth, Aar...</td>\n",
       "      <td>United States</td>\n",
       "      <td>January 1, 2020</td>\n",
       "      <td>2008</td>\n",
       "      <td>PG-13</td>\n",
       "      <td>123 min</td>\n",
       "      <td>Dramas</td>\n",
       "      <td>A brilliant group of students become card-coun...</td>\n",
       "    </tr>\n",
       "  </tbody>\n",
       "</table>\n",
       "</div>"
      ],
      "text/plain": [
       "  show_id     type  title           director  \\\n",
       "0      s1  TV Show     3%                NaN   \n",
       "1      s2    Movie   7:19  Jorge Michel Grau   \n",
       "2      s3    Movie  23:59       Gilbert Chan   \n",
       "3      s4    Movie      9        Shane Acker   \n",
       "4      s5    Movie     21     Robert Luketic   \n",
       "\n",
       "                                                cast        country  \\\n",
       "0  João Miguel, Bianca Comparato, Michel Gomes, R...         Brazil   \n",
       "1  Demián Bichir, Héctor Bonilla, Oscar Serrano, ...         Mexico   \n",
       "2  Tedd Chan, Stella Chung, Henley Hii, Lawrence ...      Singapore   \n",
       "3  Elijah Wood, John C. Reilly, Jennifer Connelly...  United States   \n",
       "4  Jim Sturgess, Kevin Spacey, Kate Bosworth, Aar...  United States   \n",
       "\n",
       "          date_added  release_year rating   duration  \\\n",
       "0    August 14, 2020          2020  TV-MA  4 Seasons   \n",
       "1  December 23, 2016          2016  TV-MA     93 min   \n",
       "2  December 20, 2018          2011      R     78 min   \n",
       "3  November 16, 2017          2009  PG-13     80 min   \n",
       "4    January 1, 2020          2008  PG-13    123 min   \n",
       "\n",
       "                                           listed_in  \\\n",
       "0  International TV Shows, TV Dramas, TV Sci-Fi &...   \n",
       "1                       Dramas, International Movies   \n",
       "2                Horror Movies, International Movies   \n",
       "3  Action & Adventure, Independent Movies, Sci-Fi...   \n",
       "4                                             Dramas   \n",
       "\n",
       "                                         description  \n",
       "0  In a future where the elite inhabit an island ...  \n",
       "1  After a devastating earthquake hits Mexico Cit...  \n",
       "2  When an army recruit is found dead, his fellow...  \n",
       "3  In a postapocalyptic world, rag-doll robots hi...  \n",
       "4  A brilliant group of students become card-coun...  "
      ]
     },
     "execution_count": 4,
     "metadata": {},
     "output_type": "execute_result"
    }
   ],
   "source": [
    "df = pd.read_csv('netflix_titles.csv')\n",
    "\n",
    "\n",
    "df.head()"
   ]
  },
  {
   "cell_type": "markdown",
   "metadata": {},
   "source": [
    "### Getting to know Data"
   ]
  },
  {
   "cell_type": "markdown",
   "metadata": {},
   "source": [
    "First we will have a look at the total number of rows and column in the data"
   ]
  },
  {
   "cell_type": "code",
   "execution_count": 5,
   "metadata": {},
   "outputs": [
    {
     "data": {
      "text/plain": [
       "(7787, 12)"
      ]
     },
     "execution_count": 5,
     "metadata": {},
     "output_type": "execute_result"
    }
   ],
   "source": [
    "df.shape"
   ]
  },
  {
   "cell_type": "markdown",
   "metadata": {},
   "source": [
    "The data types for every column can be found as:"
   ]
  },
  {
   "cell_type": "code",
   "execution_count": 6,
   "metadata": {},
   "outputs": [
    {
     "name": "stdout",
     "output_type": "stream",
     "text": [
      "<class 'pandas.core.frame.DataFrame'>\n",
      "RangeIndex: 7787 entries, 0 to 7786\n",
      "Data columns (total 12 columns):\n",
      " #   Column        Non-Null Count  Dtype \n",
      "---  ------        --------------  ----- \n",
      " 0   show_id       7787 non-null   object\n",
      " 1   type          7787 non-null   object\n",
      " 2   title         7787 non-null   object\n",
      " 3   director      5398 non-null   object\n",
      " 4   cast          7069 non-null   object\n",
      " 5   country       7280 non-null   object\n",
      " 6   date_added    7777 non-null   object\n",
      " 7   release_year  7787 non-null   int64 \n",
      " 8   rating        7780 non-null   object\n",
      " 9   duration      7787 non-null   object\n",
      " 10  listed_in     7787 non-null   object\n",
      " 11  description   7787 non-null   object\n",
      "dtypes: int64(1), object(11)\n",
      "memory usage: 730.2+ KB\n"
     ]
    }
   ],
   "source": [
    "df.info()"
   ]
  },
  {
   "cell_type": "markdown",
   "metadata": {},
   "source": [
    "Below we can "
   ]
  },
  {
   "cell_type": "code",
   "execution_count": 7,
   "metadata": {},
   "outputs": [
    {
     "data": {
      "text/plain": [
       "show_id            0\n",
       "type               0\n",
       "title              0\n",
       "director        2389\n",
       "cast             718\n",
       "country          507\n",
       "date_added        10\n",
       "release_year       0\n",
       "rating             7\n",
       "duration           0\n",
       "listed_in          0\n",
       "description        0\n",
       "dtype: int64"
      ]
     },
     "execution_count": 7,
     "metadata": {},
     "output_type": "execute_result"
    }
   ],
   "source": [
    "df.isna().sum()"
   ]
  },
  {
   "cell_type": "markdown",
   "metadata": {},
   "source": [
    "#### Handling Date data"
   ]
  },
  {
   "cell_type": "markdown",
   "metadata": {},
   "source": [
    "First we will convert the string column to datetime and separate out the month and year columns for our analysis.\n",
    "For this analysis, we will remove any rows with missing values for the *date_added* column."
   ]
  },
  {
   "cell_type": "code",
   "execution_count": 8,
   "metadata": {},
   "outputs": [
    {
     "data": {
      "text/html": [
       "<div>\n",
       "<style scoped>\n",
       "    .dataframe tbody tr th:only-of-type {\n",
       "        vertical-align: middle;\n",
       "    }\n",
       "\n",
       "    .dataframe tbody tr th {\n",
       "        vertical-align: top;\n",
       "    }\n",
       "\n",
       "    .dataframe thead th {\n",
       "        text-align: right;\n",
       "    }\n",
       "</style>\n",
       "<table border=\"1\" class=\"dataframe\">\n",
       "  <thead>\n",
       "    <tr style=\"text-align: right;\">\n",
       "      <th></th>\n",
       "      <th>show_id</th>\n",
       "      <th>type</th>\n",
       "      <th>title</th>\n",
       "      <th>director</th>\n",
       "      <th>cast</th>\n",
       "      <th>country</th>\n",
       "      <th>date_added</th>\n",
       "      <th>release_year</th>\n",
       "      <th>rating</th>\n",
       "      <th>duration</th>\n",
       "      <th>listed_in</th>\n",
       "      <th>description</th>\n",
       "      <th>added_year</th>\n",
       "      <th>added_month</th>\n",
       "    </tr>\n",
       "  </thead>\n",
       "  <tbody>\n",
       "    <tr>\n",
       "      <th>0</th>\n",
       "      <td>s1</td>\n",
       "      <td>TV Show</td>\n",
       "      <td>3%</td>\n",
       "      <td>NaN</td>\n",
       "      <td>João Miguel, Bianca Comparato, Michel Gomes, R...</td>\n",
       "      <td>Brazil</td>\n",
       "      <td>2020-08-14</td>\n",
       "      <td>2020</td>\n",
       "      <td>TV-MA</td>\n",
       "      <td>4 Seasons</td>\n",
       "      <td>International TV Shows, TV Dramas, TV Sci-Fi &amp;...</td>\n",
       "      <td>In a future where the elite inhabit an island ...</td>\n",
       "      <td>2020</td>\n",
       "      <td>Aug</td>\n",
       "    </tr>\n",
       "    <tr>\n",
       "      <th>1</th>\n",
       "      <td>s2</td>\n",
       "      <td>Movie</td>\n",
       "      <td>7:19</td>\n",
       "      <td>Jorge Michel Grau</td>\n",
       "      <td>Demián Bichir, Héctor Bonilla, Oscar Serrano, ...</td>\n",
       "      <td>Mexico</td>\n",
       "      <td>2016-12-23</td>\n",
       "      <td>2016</td>\n",
       "      <td>TV-MA</td>\n",
       "      <td>93 min</td>\n",
       "      <td>Dramas, International Movies</td>\n",
       "      <td>After a devastating earthquake hits Mexico Cit...</td>\n",
       "      <td>2016</td>\n",
       "      <td>Dec</td>\n",
       "    </tr>\n",
       "    <tr>\n",
       "      <th>2</th>\n",
       "      <td>s3</td>\n",
       "      <td>Movie</td>\n",
       "      <td>23:59</td>\n",
       "      <td>Gilbert Chan</td>\n",
       "      <td>Tedd Chan, Stella Chung, Henley Hii, Lawrence ...</td>\n",
       "      <td>Singapore</td>\n",
       "      <td>2018-12-20</td>\n",
       "      <td>2011</td>\n",
       "      <td>R</td>\n",
       "      <td>78 min</td>\n",
       "      <td>Horror Movies, International Movies</td>\n",
       "      <td>When an army recruit is found dead, his fellow...</td>\n",
       "      <td>2018</td>\n",
       "      <td>Dec</td>\n",
       "    </tr>\n",
       "    <tr>\n",
       "      <th>3</th>\n",
       "      <td>s4</td>\n",
       "      <td>Movie</td>\n",
       "      <td>9</td>\n",
       "      <td>Shane Acker</td>\n",
       "      <td>Elijah Wood, John C. Reilly, Jennifer Connelly...</td>\n",
       "      <td>United States</td>\n",
       "      <td>2017-11-16</td>\n",
       "      <td>2009</td>\n",
       "      <td>PG-13</td>\n",
       "      <td>80 min</td>\n",
       "      <td>Action &amp; Adventure, Independent Movies, Sci-Fi...</td>\n",
       "      <td>In a postapocalyptic world, rag-doll robots hi...</td>\n",
       "      <td>2017</td>\n",
       "      <td>Nov</td>\n",
       "    </tr>\n",
       "    <tr>\n",
       "      <th>4</th>\n",
       "      <td>s5</td>\n",
       "      <td>Movie</td>\n",
       "      <td>21</td>\n",
       "      <td>Robert Luketic</td>\n",
       "      <td>Jim Sturgess, Kevin Spacey, Kate Bosworth, Aar...</td>\n",
       "      <td>United States</td>\n",
       "      <td>2020-01-01</td>\n",
       "      <td>2008</td>\n",
       "      <td>PG-13</td>\n",
       "      <td>123 min</td>\n",
       "      <td>Dramas</td>\n",
       "      <td>A brilliant group of students become card-coun...</td>\n",
       "      <td>2020</td>\n",
       "      <td>Jan</td>\n",
       "    </tr>\n",
       "  </tbody>\n",
       "</table>\n",
       "</div>"
      ],
      "text/plain": [
       "  show_id     type  title           director  \\\n",
       "0      s1  TV Show     3%                NaN   \n",
       "1      s2    Movie   7:19  Jorge Michel Grau   \n",
       "2      s3    Movie  23:59       Gilbert Chan   \n",
       "3      s4    Movie      9        Shane Acker   \n",
       "4      s5    Movie     21     Robert Luketic   \n",
       "\n",
       "                                                cast        country  \\\n",
       "0  João Miguel, Bianca Comparato, Michel Gomes, R...         Brazil   \n",
       "1  Demián Bichir, Héctor Bonilla, Oscar Serrano, ...         Mexico   \n",
       "2  Tedd Chan, Stella Chung, Henley Hii, Lawrence ...      Singapore   \n",
       "3  Elijah Wood, John C. Reilly, Jennifer Connelly...  United States   \n",
       "4  Jim Sturgess, Kevin Spacey, Kate Bosworth, Aar...  United States   \n",
       "\n",
       "  date_added  release_year rating   duration  \\\n",
       "0 2020-08-14          2020  TV-MA  4 Seasons   \n",
       "1 2016-12-23          2016  TV-MA     93 min   \n",
       "2 2018-12-20          2011      R     78 min   \n",
       "3 2017-11-16          2009  PG-13     80 min   \n",
       "4 2020-01-01          2008  PG-13    123 min   \n",
       "\n",
       "                                           listed_in  \\\n",
       "0  International TV Shows, TV Dramas, TV Sci-Fi &...   \n",
       "1                       Dramas, International Movies   \n",
       "2                Horror Movies, International Movies   \n",
       "3  Action & Adventure, Independent Movies, Sci-Fi...   \n",
       "4                                             Dramas   \n",
       "\n",
       "                                         description  added_year added_month  \n",
       "0  In a future where the elite inhabit an island ...        2020         Aug  \n",
       "1  After a devastating earthquake hits Mexico Cit...        2016         Dec  \n",
       "2  When an army recruit is found dead, his fellow...        2018         Dec  \n",
       "3  In a postapocalyptic world, rag-doll robots hi...        2017         Nov  \n",
       "4  A brilliant group of students become card-coun...        2020         Jan  "
      ]
     },
     "execution_count": 8,
     "metadata": {},
     "output_type": "execute_result"
    }
   ],
   "source": [
    "df.dropna(subset=['date_added'], inplace=True)\n",
    "df['date_added'] = pd.to_datetime(df['date_added'])\n",
    "df['added_year']= df['date_added'].dt.year\n",
    "df['added_month']= df['date_added'].dt.month_name().str.slice(stop=3)\n",
    "\n",
    "df.head()"
   ]
  },
  {
   "cell_type": "code",
   "execution_count": 9,
   "metadata": {},
   "outputs": [
    {
     "data": {
      "text/plain": [
       "0       Aug\n",
       "1       Dec\n",
       "2       Dec\n",
       "3       Nov\n",
       "4       Jan\n",
       "       ... \n",
       "7782    Oct\n",
       "7783    Mar\n",
       "7784    Sep\n",
       "7785    Oct\n",
       "7786    Mar\n",
       "Name: date_added, Length: 7777, dtype: object"
      ]
     },
     "execution_count": 9,
     "metadata": {},
     "output_type": "execute_result"
    }
   ],
   "source": [
    "df['date_added'].dt.month_name().str.slice(stop=3)"
   ]
  },
  {
   "cell_type": "code",
   "execution_count": 10,
   "metadata": {},
   "outputs": [
    {
     "name": "stdout",
     "output_type": "stream",
     "text": [
      "<class 'pandas.core.frame.DataFrame'>\n",
      "Int64Index: 7777 entries, 0 to 7786\n",
      "Data columns (total 14 columns):\n",
      " #   Column        Non-Null Count  Dtype         \n",
      "---  ------        --------------  -----         \n",
      " 0   show_id       7777 non-null   object        \n",
      " 1   type          7777 non-null   object        \n",
      " 2   title         7777 non-null   object        \n",
      " 3   director      5398 non-null   object        \n",
      " 4   cast          7059 non-null   object        \n",
      " 5   country       7271 non-null   object        \n",
      " 6   date_added    7777 non-null   datetime64[ns]\n",
      " 7   release_year  7777 non-null   int64         \n",
      " 8   rating        7770 non-null   object        \n",
      " 9   duration      7777 non-null   object        \n",
      " 10  listed_in     7777 non-null   object        \n",
      " 11  description   7777 non-null   object        \n",
      " 12  added_year    7777 non-null   int64         \n",
      " 13  added_month   7777 non-null   object        \n",
      "dtypes: datetime64[ns](1), int64(2), object(11)\n",
      "memory usage: 911.4+ KB\n"
     ]
    }
   ],
   "source": [
    "df.info()"
   ]
  },
  {
   "cell_type": "code",
   "execution_count": 11,
   "metadata": {},
   "outputs": [
    {
     "data": {
      "image/png": "[encoded data removed]",
      "text/plain": [
       "<Figure size 576x576 with 1 Axes>"
      ]
     },
     "metadata": {
      "needs_background": "light"
     },
     "output_type": "display_data"
    }
   ],
   "source": [
    "plt.figure(figsize=(8 , 8))\n",
    "hue_order = ['Jan', 'Feb', 'Mar', 'Apr', 'May', 'Jun', 'Jul', 'Aug', 'Sep', 'Oct', 'Nov', 'Dec']\n",
    "ax = sns.countplot(data=df, x='added_month', order=hue_order)\n",
    "ax.set(xlabel='Months', ylabel='Number of items added', title='Media Added per Month on Netflix')\n",
    "plt.show()"
   ]
  },
  {
   "cell_type": "code",
   "execution_count": 12,
   "metadata": {},
   "outputs": [
    {
     "data": {
      "image/png": "[encoded data removed]",
      "text/plain": [
       "<Figure size 576x576 with 1 Axes>"
      ]
     },
     "metadata": {
      "needs_background": "light"
     },
     "output_type": "display_data"
    }
   ],
   "source": [
    "plt.figure(figsize=(8 , 8))\n",
    "hue_order = ['Jan', 'Feb', 'Mar', 'Apr', 'May', 'Jun', 'Jul', 'Aug', 'Sep', 'Oct', 'Nov', 'Dec']\n",
    "ax = sns.countplot(data=df, x='added_month', order=hue_order, hue='type')\n",
    "ax.set(xlabel='Months', ylabel='Number of movies/shows added', title='Media Added per Month on Netflix')\n",
    "plt.show()"
   ]
  },
  {
   "cell_type": "markdown",
   "metadata": {},
   "source": [
    "From the above graphs, it can be seen that most content gets uploaded to netlflix in December followed by October and then January. This can lead us to conclusion that Netflix adds new data near holiday season."
   ]
  },
  {
   "cell_type": "code",
   "execution_count": 13,
   "metadata": {},
   "outputs": [],
   "source": [
    "rel_year = df.release_year.value_counts()"
   ]
  },
  {
   "cell_type": "code",
   "execution_count": 14,
   "metadata": {},
   "outputs": [
    {
     "name": "stdout",
     "output_type": "stream",
     "text": [
      "2018\n",
      "2017\n",
      "2019\n",
      "2016\n",
      "2020\n",
      "2015\n",
      "2014\n",
      "2013\n",
      "2012\n",
      "2010\n",
      "2011\n",
      "2009\n",
      "2008\n",
      "2007\n",
      "2006\n",
      "2005\n",
      "2004\n",
      "2003\n",
      "2002\n",
      "2001\n",
      "2000\n",
      "1999\n",
      "2021\n",
      "1998\n",
      "1997\n",
      "1993\n",
      "1990\n",
      "1995\n",
      "1996\n",
      "1992\n",
      "1991\n",
      "1988\n",
      "1994\n",
      "1982\n",
      "1989\n",
      "1979\n",
      "1973\n",
      "1986\n",
      "1983\n",
      "1984\n",
      "1985\n",
      "1976\n",
      "1981\n",
      "1980\n",
      "1977\n",
      "1974\n",
      "1987\n",
      "1975\n",
      "1978\n",
      "1967\n",
      "1968\n",
      "1971\n",
      "1960\n",
      "1972\n",
      "1945\n",
      "1955\n",
      "1962\n",
      "1944\n",
      "1943\n",
      "1958\n",
      "1946\n",
      "1965\n",
      "1942\n",
      "1969\n",
      "1963\n",
      "1954\n",
      "1970\n",
      "1956\n",
      "1925\n",
      "1964\n",
      "1966\n",
      "1947\n",
      "1959\n"
     ]
    }
   ],
   "source": [
    "for idx, year in rel_year.iteritems():\n",
    "    print(idx)"
   ]
  },
  {
   "cell_type": "code",
   "execution_count": 15,
   "metadata": {},
   "outputs": [
    {
     "data": {
      "text/plain": [
       "pandas.core.series.Series"
      ]
     },
     "execution_count": 15,
     "metadata": {},
     "output_type": "execute_result"
    }
   ],
   "source": [
    "type(rel_year)"
   ]
  },
  {
   "cell_type": "code",
   "execution_count": 16,
   "metadata": {},
   "outputs": [
    {
     "data": {
      "image/png": "[encoded data removed]",
      "text/plain": [
       "<Figure size 720x720 with 1 Axes>"
      ]
     },
     "metadata": {
      "needs_background": "light"
     },
     "output_type": "display_data"
    }
   ],
   "source": [
    "plt.figure(figsize=(10 , 10))\n",
    "sns.lineplot(data=rel_year)\n",
    "plt.show()"
   ]
  },
  {
   "cell_type": "code",
   "execution_count": 17,
   "metadata": {},
   "outputs": [
    {
     "data": {
      "image/png": "[encoded data removed]",
      "text/plain": [
       "<Figure size 720x720 with 1 Axes>"
      ]
     },
     "metadata": {
      "needs_background": "light"
     },
     "output_type": "display_data"
    }
   ],
   "source": [
    "add_year = df.added_year.value_counts()\n",
    "plt.figure(figsize=(10 , 10))\n",
    "sns.lineplot(data=add_year)\n",
    "plt.show()"
   ]
  },
  {
   "cell_type": "code",
   "execution_count": 18,
   "metadata": {},
   "outputs": [
    {
     "data": {
      "image/png": "[encoded data removed]",
      "text/plain": [
       "<Figure size 720x720 with 1 Axes>"
      ]
     },
     "metadata": {
      "needs_background": "light"
     },
     "output_type": "display_data"
    }
   ],
   "source": [
    "plt.figure(figsize=(10 , 10))\n",
    "sns.lineplot(data=rel_year)\n",
    "sns.lineplot(data=add_year)\n",
    "plt.show()\n"
   ]
  },
  {
   "cell_type": "code",
   "execution_count": 19,
   "metadata": {},
   "outputs": [
    {
     "data": {
      "text/plain": [
       "73"
      ]
     },
     "execution_count": 19,
     "metadata": {},
     "output_type": "execute_result"
    }
   ],
   "source": [
    "len(rel_year)"
   ]
  },
  {
   "cell_type": "code",
   "execution_count": 20,
   "metadata": {},
   "outputs": [
    {
     "data": {
      "text/plain": [
       "2018    1120\n",
       "2017    1012\n",
       "2019     996\n",
       "2016     881\n",
       "2020     868\n",
       "2015     539\n",
       "2014     334\n",
       "2013     266\n",
       "2012     218\n",
       "2010     172\n",
       "2011     166\n",
       "2009     137\n",
       "2008     124\n",
       "2007      85\n",
       "2006      85\n",
       "2005      73\n",
       "2004      59\n",
       "2003      47\n",
       "2002      45\n",
       "2001      36\n",
       "2000      34\n",
       "1999      33\n",
       "2021      31\n",
       "1998      31\n",
       "1997      30\n",
       "1993      22\n",
       "1990      20\n",
       "1995      19\n",
       "1996      19\n",
       "1992      18\n",
       "1991      17\n",
       "1988      16\n",
       "1994      16\n",
       "1982      15\n",
       "1989      13\n",
       "1979      11\n",
       "1973      10\n",
       "1986      10\n",
       "1983       9\n",
       "1984       9\n",
       "1985       9\n",
       "1976       9\n",
       "1981       9\n",
       "1980       9\n",
       "1977       7\n",
       "1974       7\n",
       "1987       7\n",
       "1975       6\n",
       "1978       6\n",
       "1967       5\n",
       "1968       5\n",
       "1971       5\n",
       "1960       4\n",
       "1972       4\n",
       "1945       3\n",
       "1955       3\n",
       "1962       3\n",
       "1944       3\n",
       "1943       3\n",
       "1958       3\n",
       "1946       2\n",
       "1965       2\n",
       "1942       2\n",
       "1969       2\n",
       "1963       2\n",
       "1954       2\n",
       "1970       2\n",
       "1956       2\n",
       "1925       1\n",
       "1964       1\n",
       "1966       1\n",
       "1947       1\n",
       "1959       1\n",
       "Name: release_year, dtype: int64"
      ]
     },
     "execution_count": 20,
     "metadata": {},
     "output_type": "execute_result"
    }
   ],
   "source": [
    "rel_year"
   ]
  },
  {
   "cell_type": "code",
   "execution_count": 21,
   "metadata": {},
   "outputs": [
    {
     "data": {
      "text/plain": [
       "2000    18.617647\n",
       "2001    17.500000\n",
       "2002    17.022222\n",
       "2003    16.000000\n",
       "2004    14.745763\n",
       "2005    13.643836\n",
       "2006    12.670588\n",
       "2007    11.529412\n",
       "2008    10.532258\n",
       "2009     9.459854\n",
       "2010     8.319767\n",
       "2011     7.469880\n",
       "2012     6.169725\n",
       "2013     4.977444\n",
       "2014     3.859281\n",
       "2015     2.404453\n",
       "2016     1.531215\n",
       "2017     0.987154\n",
       "2018     0.617857\n",
       "2019     0.287149\n",
       "2020     0.010369\n",
       "dtype: float64"
      ]
     },
     "execution_count": 21,
     "metadata": {},
     "output_type": "execute_result"
    }
   ],
   "source": [
    "release_diff = {}\n",
    "diff_med  = {}\n",
    "\n",
    "diff_mod = {}\n",
    "for i in range(2000, 2021):\n",
    "    rows = df[df['release_year'] ==i ]\n",
    "    diff = rows['added_year'].mean() - i\n",
    "    release_diff[i] = diff\n",
    "    \n",
    "    dif_med = rows['added_year'].median() - i\n",
    "    diff_med[i] = dif_med\n",
    "    \n",
    "    dif_mod = rows['added_year'].mode() - i\n",
    "    diff_mod[i] = dif_mod[0]\n",
    "    \n",
    "\n",
    "diff_series = pd.Series(release_diff)\n",
    "diff_series\n",
    "\n",
    "# diff_median = pd.Series(diff_med)\n",
    "# diff_median\n",
    "    "
   ]
  },
  {
   "cell_type": "code",
   "execution_count": 22,
   "metadata": {},
   "outputs": [
    {
     "data": {
      "text/plain": [
       "2000    19.0\n",
       "2001    18.0\n",
       "2002    17.0\n",
       "2003    16.0\n",
       "2004    15.0\n",
       "2005    14.0\n",
       "2006    13.0\n",
       "2007    12.0\n",
       "2008    11.0\n",
       "2009    10.0\n",
       "2010     8.0\n",
       "2011     8.0\n",
       "2012     6.0\n",
       "2013     5.0\n",
       "2014     4.0\n",
       "2015     2.0\n",
       "2016     1.0\n",
       "2017     1.0\n",
       "2018     0.0\n",
       "2019     0.0\n",
       "2020     0.0\n",
       "dtype: float64"
      ]
     },
     "execution_count": 22,
     "metadata": {},
     "output_type": "execute_result"
    }
   ],
   "source": [
    "diff_median = pd.Series(diff_med)\n",
    "diff_median"
   ]
  },
  {
   "cell_type": "code",
   "execution_count": 23,
   "metadata": {},
   "outputs": [
    {
     "data": {
      "text/plain": [
       "2000    20\n",
       "2001    18\n",
       "2002    17\n",
       "2003    16\n",
       "2004    16\n",
       "2005    14\n",
       "2006    13\n",
       "2007    12\n",
       "2008    11\n",
       "2009     9\n",
       "2010     9\n",
       "2011     8\n",
       "2012     6\n",
       "2013     6\n",
       "2014     3\n",
       "2015     2\n",
       "2016     1\n",
       "2017     0\n",
       "2018     0\n",
       "2019     0\n",
       "2020     0\n",
       "dtype: int64"
      ]
     },
     "execution_count": 23,
     "metadata": {},
     "output_type": "execute_result"
    }
   ],
   "source": [
    "diff_mode = pd.Series(diff_mod)\n",
    "diff_mode"
   ]
  },
  {
   "cell_type": "code",
   "execution_count": 24,
   "metadata": {},
   "outputs": [
    {
     "data": {
      "image/png": "[encoded data removed]",
      "text/plain": [
       "<Figure size 720x720 with 1 Axes>"
      ]
     },
     "metadata": {
      "needs_background": "light"
     },
     "output_type": "display_data"
    }
   ],
   "source": [
    "from  matplotlib.ticker import FuncFormatter\n",
    "plt.figure(figsize=(10 , 10))\n",
    "ax = sns.lineplot(data=diff_series, marker='o')\n",
    "ax.xaxis.set_major_formatter(FuncFormatter(lambda x, _: int(x)))\n",
    "# ax = plt.plot(diff_series.index, diff_series.values, marker='o')\n",
    "# ax.xaxis.set_major_locator(mpl.ticker.MaxNLocator(integer=True))\n",
    "plt.show()"
   ]
  },
  {
   "cell_type": "code",
   "execution_count": 25,
   "metadata": {},
   "outputs": [
    {
     "data": {
      "image/png": "[encoded data removed]",
      "text/plain": [
       "<Figure size 720x720 with 1 Axes>"
      ]
     },
     "metadata": {
      "needs_background": "light"
     },
     "output_type": "display_data"
    }
   ],
   "source": [
    "from  matplotlib.ticker import FuncFormatter\n",
    "plt.figure(figsize=(10 , 10))\n",
    "ax = sns.lineplot(data=diff_median, marker='o')\n",
    "ax.xaxis.set_major_formatter(FuncFormatter(lambda x, _: int(x)))\n",
    "# ax = plt.plot(diff_series.index, diff_series.values, marker='o')\n",
    "# ax.xaxis.set_major_locator(mpl.ticker.MaxNLocator(integer=True))\n",
    "plt.show()"
   ]
  },
  {
   "cell_type": "code",
   "execution_count": 26,
   "metadata": {},
   "outputs": [
    {
     "data": {
      "image/png": "[encoded data removed]",
      "text/plain": [
       "<Figure size 720x720 with 1 Axes>"
      ]
     },
     "metadata": {
      "needs_background": "light"
     },
     "output_type": "display_data"
    }
   ],
   "source": [
    "from  matplotlib.ticker import FuncFormatter\n",
    "plt.figure(figsize=(10 , 10))\n",
    "ax = sns.lineplot(data=diff_mode, marker='o')\n",
    "ax.xaxis.set_major_formatter(FuncFormatter(lambda x, _: int(x)))\n",
    "# ax = plt.plot(diff_series.index, diff_series.values, marker='o')\n",
    "# ax.xaxis.set_major_locator(mpl.ticker.MaxNLocator(integer=True))\n",
    "plt.show()"
   ]
  },
  {
   "cell_type": "code",
   "execution_count": 27,
   "metadata": {},
   "outputs": [
    {
     "data": {
      "text/plain": [
       "2000    18.617647\n",
       "2001    17.500000\n",
       "2002    17.022222\n",
       "2003    16.000000\n",
       "2004    14.745763\n",
       "2005    13.643836\n",
       "2006    12.670588\n",
       "2007    11.529412\n",
       "2008    10.532258\n",
       "2009     9.459854\n",
       "2010     8.319767\n",
       "2011     7.469880\n",
       "2012     6.169725\n",
       "2013     4.977444\n",
       "2014     3.859281\n",
       "2015     2.404453\n",
       "2016     1.531215\n",
       "2017     0.987154\n",
       "2018     0.617857\n",
       "2019     0.287149\n",
       "2020     0.010369\n",
       "dtype: float64"
      ]
     },
     "execution_count": 27,
     "metadata": {},
     "output_type": "execute_result"
    }
   ],
   "source": [
    "release_diff = {}\n",
    "for i in range(2000, 2021):\n",
    "    rows = df[df['release_year'] ==i ]\n",
    "    diff = (rows['added_year'] - rows['release_year']).mean()\n",
    "    release_diff[i] = diff\n",
    "\n",
    "diff_series = pd.Series(release_diff)\n",
    "diff_series"
   ]
  },
  {
   "cell_type": "code",
   "execution_count": 28,
   "metadata": {},
   "outputs": [],
   "source": [
    "diff = df['added_year'] - df['release_year']"
   ]
  },
  {
   "cell_type": "code",
   "execution_count": 29,
   "metadata": {},
   "outputs": [
    {
     "data": {
      "text/plain": [
       "0        0\n",
       "1        0\n",
       "2        7\n",
       "3        8\n",
       "4       12\n",
       "        ..\n",
       "7782    15\n",
       "7783     4\n",
       "7784     1\n",
       "7785     1\n",
       "7786     1\n",
       "Length: 7777, dtype: int64"
      ]
     },
     "execution_count": 29,
     "metadata": {},
     "output_type": "execute_result"
    }
   ],
   "source": [
    "diff"
   ]
  },
  {
   "cell_type": "code",
   "execution_count": 30,
   "metadata": {},
   "outputs": [
    {
     "data": {
      "text/plain": [
       "Documentaries                                                                      334\n",
       "Stand-Up Comedy                                                                    321\n",
       "Dramas, International Movies                                                       320\n",
       "Comedies, Dramas, International Movies                                             243\n",
       "Dramas, Independent Movies, International Movies                                   215\n",
       "                                                                                  ... \n",
       "Anime Series, Crime TV Shows, TV Thrillers                                           1\n",
       "Crime TV Shows, Romantic TV Shows, Spanish-Language TV Shows                         1\n",
       "Crime TV Shows, International TV Shows, Reality TV                                   1\n",
       "International Movies, Romantic Movies, Sci-Fi & Fantasy                              1\n",
       "International TV Shows, Spanish-Language TV Shows, Stand-Up Comedy & Talk Shows      1\n",
       "Name: listed_in, Length: 491, dtype: int64"
      ]
     },
     "execution_count": 30,
     "metadata": {},
     "output_type": "execute_result"
    }
   ],
   "source": [
    "df['listed_in'].value_counts()"
   ]
  },
  {
   "cell_type": "code",
   "execution_count": 31,
   "metadata": {},
   "outputs": [],
   "source": [
    "all_genres = df['listed_in'].unique()"
   ]
  },
  {
   "cell_type": "code",
   "execution_count": 32,
   "metadata": {},
   "outputs": [
    {
     "data": {
      "text/plain": [
       "491"
      ]
     },
     "execution_count": 32,
     "metadata": {},
     "output_type": "execute_result"
    }
   ],
   "source": [
    "len(all_genres)"
   ]
  },
  {
   "cell_type": "code",
   "execution_count": 33,
   "metadata": {},
   "outputs": [
    {
     "data": {
      "text/plain": [
       "42"
      ]
     },
     "execution_count": 33,
     "metadata": {},
     "output_type": "execute_result"
    }
   ],
   "source": [
    "genres_set = set()\n",
    "for gen in all_genres:\n",
    "    g = [word.strip() for word in gen.split(',')]\n",
    "    genres_set.update(g)\n",
    "\n",
    "genres = list(genres_set)\n",
    "len(genres)\n",
    "    "
   ]
  },
  {
   "cell_type": "code",
   "execution_count": 34,
   "metadata": {},
   "outputs": [
    {
     "data": {
      "text/plain": [
       "['TV Comedies',\n",
       " 'Anime Series',\n",
       " 'Horror Movies',\n",
       " 'Spanish-Language TV Shows',\n",
       " 'Teen TV Shows',\n",
       " 'Science & Nature TV',\n",
       " 'Music & Musicals',\n",
       " 'Classic Movies',\n",
       " 'International TV Shows',\n",
       " 'LGBTQ Movies',\n",
       " 'TV Shows',\n",
       " 'Thrillers',\n",
       " 'Classic & Cult TV',\n",
       " 'Romantic TV Shows',\n",
       " 'TV Dramas',\n",
       " 'Romantic Movies',\n",
       " 'International Movies',\n",
       " \"Kids' TV\",\n",
       " 'TV Sci-Fi & Fantasy',\n",
       " 'Docuseries',\n",
       " 'Faith & Spirituality',\n",
       " 'Action & Adventure',\n",
       " 'Independent Movies',\n",
       " 'Documentaries',\n",
       " 'Children & Family Movies',\n",
       " 'Sci-Fi & Fantasy',\n",
       " 'TV Thrillers',\n",
       " 'Cult Movies',\n",
       " 'Korean TV Shows',\n",
       " 'Reality TV',\n",
       " 'Dramas',\n",
       " 'Stand-Up Comedy',\n",
       " 'British TV Shows',\n",
       " 'TV Action & Adventure',\n",
       " 'Sports Movies',\n",
       " 'Anime Features',\n",
       " 'Stand-Up Comedy & Talk Shows',\n",
       " 'TV Mysteries',\n",
       " 'Comedies',\n",
       " 'Crime TV Shows',\n",
       " 'TV Horror',\n",
       " 'Movies']"
      ]
     },
     "execution_count": 34,
     "metadata": {},
     "output_type": "execute_result"
    }
   ],
   "source": [
    "genres"
   ]
  },
  {
   "cell_type": "code",
   "execution_count": 35,
   "metadata": {},
   "outputs": [
    {
     "name": "stdout",
     "output_type": "stream",
     "text": [
      "{'International TV Shows': 1198, 'TV Dramas': 703, 'TV Sci-Fi & Fantasy': 75, 'Dramas': 2106, 'International Movies': 2437, 'Horror Movies': 312, 'Action & Adventure': 721, 'Independent Movies': 673, 'Sci-Fi & Fantasy': 218, 'TV Mysteries': 90, 'Thrillers': 491, 'Crime TV Shows': 426, 'Docuseries': 352, 'Documentaries': 786, 'Sports Movies': 196, 'Comedies': 1471, 'Anime Series': 147, 'Reality TV': 222, 'TV Comedies': 518, 'Romantic Movies': 531, 'Romantic TV Shows': 333, 'Science & Nature TV': 85, 'Movies': 56, 'British TV Shows': 231, 'Korean TV Shows': 150, 'Music & Musicals': 321, 'LGBTQ Movies': 90, 'Faith & Spirituality': 57, \"Kids' TV\": 412, 'TV Action & Adventure': 149, 'Spanish-Language TV Shows': 146, 'Children & Family Movies': 532, 'TV Shows': 12, 'Classic Movies': 103, 'Cult Movies': 59, 'TV Horror': 69, 'Stand-Up Comedy & Talk Shows': 52, 'Teen TV Shows': 60, 'Stand-Up Comedy': 329, 'Anime Features': 57, 'TV Thrillers': 50, 'Classic & Cult TV': 25}\n"
     ]
    }
   ],
   "source": [
    "all_genre_list = []\n",
    "for i in range(len(df)):\n",
    "    g = [word.strip() for word in df.listed_in.iloc[i].split(',')]\n",
    "    all_genre_list.extend(g)\n",
    "\n",
    "genre_counts = {}\n",
    "for i in all_genre_list:\n",
    "    genre_counts[i] = all_genre_list.count(i)\n",
    "\n",
    "print(genre_counts)"
   ]
  },
  {
   "cell_type": "code",
   "execution_count": 36,
   "metadata": {},
   "outputs": [],
   "source": [
    "sorted_genres = dict(sorted(genre_counts.items(), key=lambda item: item[1], reverse=True))"
   ]
  },
  {
   "cell_type": "code",
   "execution_count": 37,
   "metadata": {},
   "outputs": [
    {
     "name": "stdout",
     "output_type": "stream",
     "text": [
      "{'International Movies': 2437, 'Dramas': 2106, 'Comedies': 1471, 'International TV Shows': 1198, 'Documentaries': 786, 'Action & Adventure': 721, 'TV Dramas': 703, 'Independent Movies': 673, 'Children & Family Movies': 532, 'Romantic Movies': 531, 'TV Comedies': 518, 'Thrillers': 491, 'Crime TV Shows': 426, \"Kids' TV\": 412, 'Docuseries': 352, 'Romantic TV Shows': 333, 'Stand-Up Comedy': 329, 'Music & Musicals': 321, 'Horror Movies': 312, 'British TV Shows': 231, 'Reality TV': 222, 'Sci-Fi & Fantasy': 218, 'Sports Movies': 196, 'Korean TV Shows': 150, 'TV Action & Adventure': 149, 'Anime Series': 147, 'Spanish-Language TV Shows': 146, 'Classic Movies': 103, 'TV Mysteries': 90, 'LGBTQ Movies': 90, 'Science & Nature TV': 85, 'TV Sci-Fi & Fantasy': 75, 'TV Horror': 69, 'Teen TV Shows': 60, 'Cult Movies': 59, 'Faith & Spirituality': 57, 'Anime Features': 57, 'Movies': 56, 'Stand-Up Comedy & Talk Shows': 52, 'TV Thrillers': 50, 'Classic & Cult TV': 25, 'TV Shows': 12}\n"
     ]
    }
   ],
   "source": [
    "print(sorted_genres)"
   ]
  },
  {
   "cell_type": "code",
   "execution_count": 38,
   "metadata": {},
   "outputs": [
    {
     "data": {
      "image/png": "[encoded data removed]",
      "text/plain": [
       "<Figure size 720x720 with 1 Axes>"
      ]
     },
     "metadata": {
      "needs_background": "light"
     },
     "output_type": "display_data"
    }
   ],
   "source": [
    "plt.figure(figsize=(10 , 10))\n",
    "plt.bar(sorted_genres.keys(), sorted_genres.values())\n",
    "plt.xticks(rotation='vertical')\n",
    "plt.show()"
   ]
  },
  {
   "cell_type": "code",
   "execution_count": 39,
   "metadata": {},
   "outputs": [],
   "source": [
    "import itertools\n",
    "top_5 = dict(itertools.islice(iter(sorted_genres.items()) , 5))"
   ]
  },
  {
   "cell_type": "code",
   "execution_count": 40,
   "metadata": {},
   "outputs": [],
   "source": [
    "# df.dropna(subset=['rating'], inplace=True)"
   ]
  },
  {
   "cell_type": "code",
   "execution_count": 41,
   "metadata": {},
   "outputs": [
    {
     "data": {
      "text/plain": [
       "array(['TV-MA', 'R', 'PG-13', 'TV-14', 'TV-PG', 'NR', 'TV-G', 'TV-Y', nan,\n",
       "       'TV-Y7', 'PG', 'G', 'NC-17', 'TV-Y7-FV', 'UR'], dtype=object)"
      ]
     },
     "execution_count": 41,
     "metadata": {},
     "output_type": "execute_result"
    }
   ],
   "source": [
    "df['rating'].unique()"
   ]
  },
  {
   "cell_type": "code",
   "execution_count": 42,
   "metadata": {},
   "outputs": [],
   "source": [
    "top5 = list(sorted_genres.keys())[:5]"
   ]
  },
  {
   "cell_type": "code",
   "execution_count": 43,
   "metadata": {},
   "outputs": [
    {
     "data": {
      "text/plain": [
       "['International Movies',\n",
       " 'Dramas',\n",
       " 'Comedies',\n",
       " 'International TV Shows',\n",
       " 'Documentaries']"
      ]
     },
     "execution_count": 43,
     "metadata": {},
     "output_type": "execute_result"
    }
   ],
   "source": [
    "top5\n"
   ]
  },
  {
   "cell_type": "code",
   "execution_count": 49,
   "metadata": {},
   "outputs": [
    {
     "data": {
      "image/png": "[encoded data removed]",
      "text/plain": [
       "<Figure size 288x288 with 1 Axes>"
      ]
     },
     "metadata": {
      "needs_background": "light"
     },
     "output_type": "display_data"
    },
    {
     "data": {
      "image/png": "[encoded data removed]",
      "text/plain": [
       "<Figure size 288x288 with 1 Axes>"
      ]
     },
     "metadata": {
      "needs_background": "light"
     },
     "output_type": "display_data"
    },
    {
     "data": {
      "image/png": "[encoded data removed]",
      "text/plain": [
       "<Figure size 288x288 with 1 Axes>"
      ]
     },
     "metadata": {
      "needs_background": "light"
     },
     "output_type": "display_data"
    },
    {
     "data": {
      "image/png": "[encoded data removed]",
      "text/plain": [
       "<Figure size 288x288 with 1 Axes>"
      ]
     },
     "metadata": {
      "needs_background": "light"
     },
     "output_type": "display_data"
    },
    {
     "data": {
      "image/png": "[encoded data removed]",
      "text/plain": [
       "<Figure size 288x288 with 1 Axes>"
      ]
     },
     "metadata": {
      "needs_background": "light"
     },
     "output_type": "display_data"
    }
   ],
   "source": [
    "for top in top5:\n",
    "    plt.figure(figsize=(4 , 4))\n",
    "    rating_records = df[df['listed_in'].str.contains(top)]\n",
    "    ax = sns.countplot(data=rating_records, x='rating')\n",
    "#     ax = rating_records['rating'].value_counts().plot.pie(autopct='%1.1f%%',figsize=(20,35))\n",
    "    ax.set(xlabel='Rating', ylabel='Number of movies/shows', title=top)\n",
    "    plt.xticks(rotation='vertical')\n",
    "    plt.show()\n",
    "    \n",
    "#     rating_records.plot.pie(y='rating', figsize=(5, 5))\n",
    "\n",
    "    \n",
    "\n",
    "# rating_records.head()\n",
    "    "
   ]
  },
  {
   "cell_type": "code",
   "execution_count": 46,
   "metadata": {},
   "outputs": [
    {
     "data": {
      "text/html": [
       "<div>\n",
       "<style scoped>\n",
       "    .dataframe tbody tr th:only-of-type {\n",
       "        vertical-align: middle;\n",
       "    }\n",
       "\n",
       "    .dataframe tbody tr th {\n",
       "        vertical-align: top;\n",
       "    }\n",
       "\n",
       "    .dataframe thead th {\n",
       "        text-align: right;\n",
       "    }\n",
       "</style>\n",
       "<table border=\"1\" class=\"dataframe\">\n",
       "  <thead>\n",
       "    <tr style=\"text-align: right;\">\n",
       "      <th></th>\n",
       "      <th>show_id</th>\n",
       "      <th>type</th>\n",
       "      <th>title</th>\n",
       "      <th>director</th>\n",
       "      <th>cast</th>\n",
       "      <th>country</th>\n",
       "      <th>date_added</th>\n",
       "      <th>release_year</th>\n",
       "      <th>rating</th>\n",
       "      <th>duration</th>\n",
       "      <th>listed_in</th>\n",
       "      <th>description</th>\n",
       "      <th>added_year</th>\n",
       "      <th>added_month</th>\n",
       "    </tr>\n",
       "  </thead>\n",
       "  <tbody>\n",
       "    <tr>\n",
       "      <th>0</th>\n",
       "      <td>s1</td>\n",
       "      <td>TV Show</td>\n",
       "      <td>3%</td>\n",
       "      <td>NaN</td>\n",
       "      <td>João Miguel, Bianca Comparato, Michel Gomes, R...</td>\n",
       "      <td>Brazil</td>\n",
       "      <td>2020-08-14</td>\n",
       "      <td>2020</td>\n",
       "      <td>TV-MA</td>\n",
       "      <td>4 Seasons</td>\n",
       "      <td>International TV Shows, TV Dramas, TV Sci-Fi &amp;...</td>\n",
       "      <td>In a future where the elite inhabit an island ...</td>\n",
       "      <td>2020</td>\n",
       "      <td>Aug</td>\n",
       "    </tr>\n",
       "    <tr>\n",
       "      <th>1</th>\n",
       "      <td>s2</td>\n",
       "      <td>Movie</td>\n",
       "      <td>7:19</td>\n",
       "      <td>Jorge Michel Grau</td>\n",
       "      <td>Demián Bichir, Héctor Bonilla, Oscar Serrano, ...</td>\n",
       "      <td>Mexico</td>\n",
       "      <td>2016-12-23</td>\n",
       "      <td>2016</td>\n",
       "      <td>TV-MA</td>\n",
       "      <td>93 min</td>\n",
       "      <td>Dramas, International Movies</td>\n",
       "      <td>After a devastating earthquake hits Mexico Cit...</td>\n",
       "      <td>2016</td>\n",
       "      <td>Dec</td>\n",
       "    </tr>\n",
       "    <tr>\n",
       "      <th>4</th>\n",
       "      <td>s5</td>\n",
       "      <td>Movie</td>\n",
       "      <td>21</td>\n",
       "      <td>Robert Luketic</td>\n",
       "      <td>Jim Sturgess, Kevin Spacey, Kate Bosworth, Aar...</td>\n",
       "      <td>United States</td>\n",
       "      <td>2020-01-01</td>\n",
       "      <td>2008</td>\n",
       "      <td>PG-13</td>\n",
       "      <td>123 min</td>\n",
       "      <td>Dramas</td>\n",
       "      <td>A brilliant group of students become card-coun...</td>\n",
       "      <td>2020</td>\n",
       "      <td>Jan</td>\n",
       "    </tr>\n",
       "    <tr>\n",
       "      <th>5</th>\n",
       "      <td>s6</td>\n",
       "      <td>TV Show</td>\n",
       "      <td>46</td>\n",
       "      <td>Serdar Akar</td>\n",
       "      <td>Erdal Beşikçioğlu, Yasemin Allen, Melis Birkan...</td>\n",
       "      <td>Turkey</td>\n",
       "      <td>2017-07-01</td>\n",
       "      <td>2016</td>\n",
       "      <td>TV-MA</td>\n",
       "      <td>1 Season</td>\n",
       "      <td>International TV Shows, TV Dramas, TV Mysteries</td>\n",
       "      <td>A genetics professor experiments with a treatm...</td>\n",
       "      <td>2017</td>\n",
       "      <td>Jul</td>\n",
       "    </tr>\n",
       "    <tr>\n",
       "      <th>7</th>\n",
       "      <td>s8</td>\n",
       "      <td>Movie</td>\n",
       "      <td>187</td>\n",
       "      <td>Kevin Reynolds</td>\n",
       "      <td>Samuel L. Jackson, John Heard, Kelly Rowan, Cl...</td>\n",
       "      <td>United States</td>\n",
       "      <td>2019-11-01</td>\n",
       "      <td>1997</td>\n",
       "      <td>R</td>\n",
       "      <td>119 min</td>\n",
       "      <td>Dramas</td>\n",
       "      <td>After one of his high school students attacks ...</td>\n",
       "      <td>2019</td>\n",
       "      <td>Nov</td>\n",
       "    </tr>\n",
       "    <tr>\n",
       "      <th>...</th>\n",
       "      <td>...</td>\n",
       "      <td>...</td>\n",
       "      <td>...</td>\n",
       "      <td>...</td>\n",
       "      <td>...</td>\n",
       "      <td>...</td>\n",
       "      <td>...</td>\n",
       "      <td>...</td>\n",
       "      <td>...</td>\n",
       "      <td>...</td>\n",
       "      <td>...</td>\n",
       "      <td>...</td>\n",
       "      <td>...</td>\n",
       "      <td>...</td>\n",
       "    </tr>\n",
       "    <tr>\n",
       "      <th>7774</th>\n",
       "      <td>s7775</td>\n",
       "      <td>Movie</td>\n",
       "      <td>Zodiac</td>\n",
       "      <td>David Fincher</td>\n",
       "      <td>Mark Ruffalo, Jake Gyllenhaal, Robert Downey J...</td>\n",
       "      <td>United States</td>\n",
       "      <td>2019-11-20</td>\n",
       "      <td>2007</td>\n",
       "      <td>R</td>\n",
       "      <td>158 min</td>\n",
       "      <td>Cult Movies, Dramas, Thrillers</td>\n",
       "      <td>A political cartoonist, a crime reporter and a...</td>\n",
       "      <td>2019</td>\n",
       "      <td>Nov</td>\n",
       "    </tr>\n",
       "    <tr>\n",
       "      <th>7776</th>\n",
       "      <td>s7777</td>\n",
       "      <td>Movie</td>\n",
       "      <td>Zokkomon</td>\n",
       "      <td>Satyajit Bhatkal</td>\n",
       "      <td>Darsheel Safary, Anupam Kher, Manjari Fadnis, ...</td>\n",
       "      <td>India</td>\n",
       "      <td>2018-11-01</td>\n",
       "      <td>2011</td>\n",
       "      <td>PG</td>\n",
       "      <td>104 min</td>\n",
       "      <td>Children &amp; Family Movies, Dramas</td>\n",
       "      <td>When his cruel uncle abandons him, a young orp...</td>\n",
       "      <td>2018</td>\n",
       "      <td>Nov</td>\n",
       "    </tr>\n",
       "    <tr>\n",
       "      <th>7780</th>\n",
       "      <td>s7781</td>\n",
       "      <td>Movie</td>\n",
       "      <td>Zoo</td>\n",
       "      <td>Shlok Sharma</td>\n",
       "      <td>Shashank Arora, Shweta Tripathi, Rahul Kumar, ...</td>\n",
       "      <td>India</td>\n",
       "      <td>2018-07-01</td>\n",
       "      <td>2018</td>\n",
       "      <td>TV-MA</td>\n",
       "      <td>94 min</td>\n",
       "      <td>Dramas, Independent Movies, International Movies</td>\n",
       "      <td>A drug dealer starts having doubts about his t...</td>\n",
       "      <td>2018</td>\n",
       "      <td>Jul</td>\n",
       "    </tr>\n",
       "    <tr>\n",
       "      <th>7782</th>\n",
       "      <td>s7783</td>\n",
       "      <td>Movie</td>\n",
       "      <td>Zozo</td>\n",
       "      <td>Josef Fares</td>\n",
       "      <td>Imad Creidi, Antoinette Turk, Elias Gergi, Car...</td>\n",
       "      <td>Sweden, Czech Republic, United Kingdom, Denmar...</td>\n",
       "      <td>2020-10-19</td>\n",
       "      <td>2005</td>\n",
       "      <td>TV-MA</td>\n",
       "      <td>99 min</td>\n",
       "      <td>Dramas, International Movies</td>\n",
       "      <td>When Lebanon's Civil War deprives Zozo of his ...</td>\n",
       "      <td>2020</td>\n",
       "      <td>Oct</td>\n",
       "    </tr>\n",
       "    <tr>\n",
       "      <th>7783</th>\n",
       "      <td>s7784</td>\n",
       "      <td>Movie</td>\n",
       "      <td>Zubaan</td>\n",
       "      <td>Mozez Singh</td>\n",
       "      <td>Vicky Kaushal, Sarah-Jane Dias, Raaghav Chanan...</td>\n",
       "      <td>India</td>\n",
       "      <td>2019-03-02</td>\n",
       "      <td>2015</td>\n",
       "      <td>TV-14</td>\n",
       "      <td>111 min</td>\n",
       "      <td>Dramas, International Movies, Music &amp; Musicals</td>\n",
       "      <td>A scrappy but poor boy worms his way into a ty...</td>\n",
       "      <td>2019</td>\n",
       "      <td>Mar</td>\n",
       "    </tr>\n",
       "  </tbody>\n",
       "</table>\n",
       "<p>2809 rows × 14 columns</p>\n",
       "</div>"
      ],
      "text/plain": [
       "     show_id     type     title           director  \\\n",
       "0         s1  TV Show        3%                NaN   \n",
       "1         s2    Movie      7:19  Jorge Michel Grau   \n",
       "4         s5    Movie        21     Robert Luketic   \n",
       "5         s6  TV Show        46        Serdar Akar   \n",
       "7         s8    Movie       187     Kevin Reynolds   \n",
       "...      ...      ...       ...                ...   \n",
       "7774   s7775    Movie    Zodiac      David Fincher   \n",
       "7776   s7777    Movie  Zokkomon   Satyajit Bhatkal   \n",
       "7780   s7781    Movie       Zoo       Shlok Sharma   \n",
       "7782   s7783    Movie      Zozo        Josef Fares   \n",
       "7783   s7784    Movie    Zubaan        Mozez Singh   \n",
       "\n",
       "                                                   cast  \\\n",
       "0     João Miguel, Bianca Comparato, Michel Gomes, R...   \n",
       "1     Demián Bichir, Héctor Bonilla, Oscar Serrano, ...   \n",
       "4     Jim Sturgess, Kevin Spacey, Kate Bosworth, Aar...   \n",
       "5     Erdal Beşikçioğlu, Yasemin Allen, Melis Birkan...   \n",
       "7     Samuel L. Jackson, John Heard, Kelly Rowan, Cl...   \n",
       "...                                                 ...   \n",
       "7774  Mark Ruffalo, Jake Gyllenhaal, Robert Downey J...   \n",
       "7776  Darsheel Safary, Anupam Kher, Manjari Fadnis, ...   \n",
       "7780  Shashank Arora, Shweta Tripathi, Rahul Kumar, ...   \n",
       "7782  Imad Creidi, Antoinette Turk, Elias Gergi, Car...   \n",
       "7783  Vicky Kaushal, Sarah-Jane Dias, Raaghav Chanan...   \n",
       "\n",
       "                                                country date_added  \\\n",
       "0                                                Brazil 2020-08-14   \n",
       "1                                                Mexico 2016-12-23   \n",
       "4                                         United States 2020-01-01   \n",
       "5                                                Turkey 2017-07-01   \n",
       "7                                         United States 2019-11-01   \n",
       "...                                                 ...        ...   \n",
       "7774                                      United States 2019-11-20   \n",
       "7776                                              India 2018-11-01   \n",
       "7780                                              India 2018-07-01   \n",
       "7782  Sweden, Czech Republic, United Kingdom, Denmar... 2020-10-19   \n",
       "7783                                              India 2019-03-02   \n",
       "\n",
       "      release_year rating   duration  \\\n",
       "0             2020  TV-MA  4 Seasons   \n",
       "1             2016  TV-MA     93 min   \n",
       "4             2008  PG-13    123 min   \n",
       "5             2016  TV-MA   1 Season   \n",
       "7             1997      R    119 min   \n",
       "...            ...    ...        ...   \n",
       "7774          2007      R    158 min   \n",
       "7776          2011     PG    104 min   \n",
       "7780          2018  TV-MA     94 min   \n",
       "7782          2005  TV-MA     99 min   \n",
       "7783          2015  TV-14    111 min   \n",
       "\n",
       "                                              listed_in  \\\n",
       "0     International TV Shows, TV Dramas, TV Sci-Fi &...   \n",
       "1                          Dramas, International Movies   \n",
       "4                                                Dramas   \n",
       "5       International TV Shows, TV Dramas, TV Mysteries   \n",
       "7                                                Dramas   \n",
       "...                                                 ...   \n",
       "7774                     Cult Movies, Dramas, Thrillers   \n",
       "7776                   Children & Family Movies, Dramas   \n",
       "7780   Dramas, Independent Movies, International Movies   \n",
       "7782                       Dramas, International Movies   \n",
       "7783     Dramas, International Movies, Music & Musicals   \n",
       "\n",
       "                                            description  added_year  \\\n",
       "0     In a future where the elite inhabit an island ...        2020   \n",
       "1     After a devastating earthquake hits Mexico Cit...        2016   \n",
       "4     A brilliant group of students become card-coun...        2020   \n",
       "5     A genetics professor experiments with a treatm...        2017   \n",
       "7     After one of his high school students attacks ...        2019   \n",
       "...                                                 ...         ...   \n",
       "7774  A political cartoonist, a crime reporter and a...        2019   \n",
       "7776  When his cruel uncle abandons him, a young orp...        2018   \n",
       "7780  A drug dealer starts having doubts about his t...        2018   \n",
       "7782  When Lebanon's Civil War deprives Zozo of his ...        2020   \n",
       "7783  A scrappy but poor boy worms his way into a ty...        2019   \n",
       "\n",
       "     added_month  \n",
       "0            Aug  \n",
       "1            Dec  \n",
       "4            Jan  \n",
       "5            Jul  \n",
       "7            Nov  \n",
       "...          ...  \n",
       "7774         Nov  \n",
       "7776         Nov  \n",
       "7780         Jul  \n",
       "7782         Oct  \n",
       "7783         Mar  \n",
       "\n",
       "[2809 rows x 14 columns]"
      ]
     },
     "execution_count": 46,
     "metadata": {},
     "output_type": "execute_result"
    }
   ],
   "source": [
    "df[df['listed_in'].str.contains('Dramas')]"
   ]
  },
  {
   "cell_type": "code",
   "execution_count": 47,
   "metadata": {},
   "outputs": [],
   "source": [
    "df.dropna(subset=['country'], inplace=True)"
   ]
  },
  {
   "cell_type": "code",
   "execution_count": 61,
   "metadata": {},
   "outputs": [],
   "source": [
    "df['country'] = df.country.str.split(',').str[0]\n",
    "# df['country'] == 'United States'"
   ]
  },
  {
   "cell_type": "code",
   "execution_count": 73,
   "metadata": {},
   "outputs": [
    {
     "data": {
      "text/plain": [
       "<AxesSubplot:ylabel='country'>"
      ]
     },
     "execution_count": 73,
     "metadata": {},
     "output_type": "execute_result"
    },
    {
     "data": {
      "image/png": "[encoded data removed]",
      "text/plain": [
       "<Figure size 720x720 with 1 Axes>"
      ]
     },
     "metadata": {},
     "output_type": "display_data"
    }
   ],
   "source": [
    "df['country'].value_counts()[:20].plot.pie(autopct='%1.1f%%',figsize=(10,10))\n",
    "# plt.show()\n",
    "# (df['country'].value_counts())[:12]"
   ]
  },
  {
   "cell_type": "code",
   "execution_count": 70,
   "metadata": {},
   "outputs": [
    {
     "data": {
      "text/plain": [
       "United States           2877\n",
       "India                    956\n",
       "United Kingdom           576\n",
       "Canada                   259\n",
       "Japan                    236\n",
       "France                   196\n",
       "South Korea              194\n",
       "Spain                    168\n",
       "Mexico                   123\n",
       "Australia                107\n",
       "Turkey                   106\n",
       "Egypt                    105\n",
       "Germany                   92\n",
       "China                     86\n",
       "Taiwan                    82\n",
       "Brazil                    79\n",
       "Hong Kong                 77\n",
       "Indonesia                 76\n",
       "Philippines               75\n",
       "Nigeria                   71\n",
       "Argentina                 68\n",
       "Thailand                  61\n",
       "Italy                     59\n",
       "Colombia                  36\n",
       "South Africa              35\n",
       "Denmark                   30\n",
       "Singapore                 28\n",
       "Ireland                   26\n",
       "Poland                    26\n",
       "Netherlands               25\n",
       "Malaysia                  23\n",
       "Pakistan                  22\n",
       "Chile                     21\n",
       "Norway                    20\n",
       "Lebanon                   20\n",
       "Russia                    20\n",
       "Israel                    19\n",
       "United Arab Emirates      19\n",
       "Sweden                    16\n",
       "New Zealand               15\n",
       "Belgium                   14\n",
       "Romania                   10\n",
       "Saudi Arabia              10\n",
       "Uruguay                    9\n",
       "Austria                    8\n",
       "Switzerland                7\n",
       "Finland                    6\n",
       "Peru                       6\n",
       "Kuwait                     6\n",
       "Iceland                    5\n",
       "Vietnam                    5\n",
       "Czech Republic             5\n",
       "Bulgaria                   5\n",
       "Ghana                      4\n",
       "Hungary                    4\n",
       "Serbia                     3\n",
       "Kenya                      3\n",
       "Georgia                    2\n",
       "Bangladesh                 2\n",
       "Croatia                    2\n",
       "Ukraine                    2\n",
       "Venezuela                  2\n",
       "Cambodia                   2\n",
       "Portugal                   2\n",
       "Jamaica                    1\n",
       "Paraguay                   1\n",
       "Belarus                    1\n",
       "Cyprus                     1\n",
       "Greece                     1\n",
       "Senegal                    1\n",
       "Guatemala                  1\n",
       "Mauritius                  1\n",
       "Puerto Rico                1\n",
       "Jordan                     1\n",
       "Slovenia                   1\n",
       "West Germany               1\n",
       "Zimbabwe                   1\n",
       "Namibia                    1\n",
       "Soviet Union               1\n",
       "Iran                       1\n",
       "Somalia                    1\n",
       "Name: country, dtype: int64"
      ]
     },
     "execution_count": 70,
     "metadata": {},
     "output_type": "execute_result"
    }
   ],
   "source": [
    "(df['country'].value_counts())"
   ]
  },
  {
   "cell_type": "code",
   "execution_count": null,
   "metadata": {},
   "outputs": [],
   "source": []
  }
 ],
 "metadata": {
  "kernelspec": {
   "display_name": "Python 3 (ipykernel)",
   "language": "python",
   "name": "python3"
  },
  "language_info": {
   "codemirror_mode": {
    "name": "ipython",
    "version": 3
   },
   "file_extension": ".py",
   "mimetype": "text/x-python",
   "name": "python",
   "nbconvert_exporter": "python",
   "pygments_lexer": "ipython3",
   "version": "3.8.10"
  }
 },
 "nbformat": 4,
 "nbformat_minor": 1
}